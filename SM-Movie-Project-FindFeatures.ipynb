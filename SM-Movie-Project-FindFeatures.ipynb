{
 "cells": [
  {
   "cell_type": "markdown",
   "metadata": {},
   "source": [
    "# Initialize"
   ]
  },
  {
   "cell_type": "markdown",
   "metadata": {},
   "source": [
    "## ASW session"
   ]
  },
  {
   "cell_type": "code",
   "execution_count": 1,
   "metadata": {},
   "outputs": [],
   "source": [
    "import boto3\n",
    "\n",
    "session = boto3.Session()\n",
    "s3 = session.resource('s3')"
   ]
  },
  {
   "cell_type": "markdown",
   "metadata": {},
   "source": [
    "## SageMaker Session"
   ]
  },
  {
   "cell_type": "code",
   "execution_count": 2,
   "metadata": {},
   "outputs": [],
   "source": [
    "import sagemaker\n",
    "\n",
    "sage_session = sagemaker.Session()"
   ]
  },
  {
   "cell_type": "markdown",
   "metadata": {},
   "source": [
    "# Define Globals"
   ]
  },
  {
   "cell_type": "code",
   "execution_count": 3,
   "metadata": {},
   "outputs": [],
   "source": [
    "# bucket name\n",
    "bucket = 'aida-project'\n",
    "\n",
    "# path for s3_input\n",
    "s3_path = f\"s3://{bucket}/\"\n",
    "\n",
    "## define source files\n",
    "# TRAIN source file\n",
    "train_source_path = 'team_remote'\n",
    "train_source_name = 'title-train.csv'\n",
    "#train_source_name = 'title-valid.csv'       # for testing; remove later\n",
    "\n",
    "\n",
    "# VALID source file\n",
    "valid_source_path = 'team_remote'\n",
    "valid_source_name = 'title-valid.csv'\n",
    "#valid_source_name = 'title-test.csv'       # for testing; remove later\n",
    "\n",
    "# TEST source file\n",
    "test_source_path = 'team_remote'\n",
    "test_source_name = 'title-test.csv'\n",
    "\n",
    "# output for result\n",
    "output_path ='team_remote'\n",
    "output_location = f'{s3_path}{output_path}/output'"
   ]
  },
  {
   "cell_type": "code",
   "execution_count": 4,
   "metadata": {},
   "outputs": [
    {
     "name": "stdout",
     "output_type": "stream",
     "text": [
      "s3://aida-project/team_remote/output\n"
     ]
    }
   ],
   "source": [
    "print(output_location)"
   ]
  },
  {
   "cell_type": "code",
   "execution_count": 5,
   "metadata": {},
   "outputs": [
    {
     "name": "stderr",
     "output_type": "stream",
     "text": [
      "'s3_input' class will be renamed to 'TrainingInput' in SageMaker Python SDK v2.\n",
      "'s3_input' class will be renamed to 'TrainingInput' in SageMaker Python SDK v2.\n",
      "'s3_input' class will be renamed to 'TrainingInput' in SageMaker Python SDK v2.\n"
     ]
    }
   ],
   "source": [
    "# Create pointers to the S3 train and test datasets\n",
    "\n",
    "from sagemaker import s3_input\n",
    "\n",
    "# print(f\"{s3_path}{train_source_path}/{train_source_name}\")\n",
    "# print(f\"{s3_path}{valid_source_path}/{valid_source_name}\")\n",
    "# print(f\"{s3_path}{test_source_path}/{test_source_name}\")\n",
    "s3_input_train = sagemaker.session.s3_input(s3_data=f\"{s3_path}{train_source_path}/{train_source_name}\", content_type=\"text/csv\")\n",
    "s3_input_valid = sagemaker.session.s3_input(s3_data=f\"{s3_path}{valid_source_path}/{valid_source_name}\", content_type=\"text/csv\")\n",
    "s3_input_test = sagemaker.session.s3_input(s3_data=f\"{s3_path}{test_source_path}/{test_source_name}\", content_type=\"text/csv\")"
   ]
  },
  {
   "cell_type": "code",
   "execution_count": 6,
   "metadata": {},
   "outputs": [],
   "source": [
    "role = sagemaker.get_execution_role()"
   ]
  },
  {
   "cell_type": "markdown",
   "metadata": {},
   "source": [
    "# Define Model"
   ]
  },
  {
   "cell_type": "code",
   "execution_count": 7,
   "metadata": {},
   "outputs": [],
   "source": [
    "# finde pre-defined models here:\n",
    "# https://docs.aws.amazon.com/sagemaker/latest/dg/sagemaker-algo-docker-registry-paths.html\n",
    "\n",
    "# Create an XGBoost Estimator\n",
    "\n",
    "# estimator call\n",
    "# <ecr_path>/sagemaker-xgboost:1.2-1\n",
    "    \n",
    "ecr_path = \"492215442770.dkr.ecr.eu-central-1.amazonaws.com\"\n",
    "xgboost_estimator = f\"{ecr_path}/sagemaker-xgboost:1.0-1-cpu-py3\"\n",
    "\n",
    "# ecr_path = \"664544806723.dkr.ecr.eu-central-1.amazonaws.com\"\n",
    "# knn_estimator = f\"{ecr_path}/knn:latest\"\n"
   ]
  },
  {
   "cell_type": "code",
   "execution_count": 8,
   "metadata": {},
   "outputs": [
    {
     "name": "stderr",
     "output_type": "stream",
     "text": [
      "Parameter image_name will be renamed to image_uri in SageMaker Python SDK v2.\n"
     ]
    }
   ],
   "source": [
    "xgboost = sagemaker.estimator.Estimator(xgboost_estimator,\n",
    "                              role,\n",
    "                              train_instance_count=1,\n",
    "                              train_instance_type=\"ml.m5.4xlarge\",\n",
    "                              output_path=output_location,\n",
    "                              sagemaker_session=sage_session,\n",
    "                              base_job_name=\"JPC-xgboost\")"
   ]
  },
  {
   "cell_type": "code",
   "execution_count": 9,
   "metadata": {},
   "outputs": [],
   "source": [
    "# Select the your specific hyperparameters (Optional)\n",
    "# https://docs.aws.amazon.com/sagemaker/latest/dg/xgboost_hyperparameters.html\n",
    "# https://github.com/dmlc/xgboost/blob/master/doc/parameter.rst#learning-task-parameters \n",
    "\n",
    "xgboost.set_hyperparameters(\n",
    "    eta=.35,\n",
    "    num_round=50,                     # required parameter!\n",
    "    objective = 'reg:linear',\n",
    "    )"
   ]
  },
  {
   "cell_type": "code",
   "execution_count": 119,
   "metadata": {},
   "outputs": [
    {
     "name": "stderr",
     "output_type": "stream",
     "text": [
      "Parameter image_name will be renamed to image_uri in SageMaker Python SDK v2.\n"
     ]
    }
   ],
   "source": [
    "from sagemaker.debugger import rule_configs, Rule, DebuggerHookConfig, CollectionConfig\n",
    "from sagemaker.estimator import Estimator \n",
    "save_interval = 10\n",
    "xgboost_debugger = Estimator( role=role, \n",
    "                             base_job_name=\"JPC-xgboost-debug\", \n",
    "                             train_instance_count=1, \n",
    "                             train_instance_type='ml.m5.4xlarge', \n",
    "                             image_name=xgboost_estimator, \n",
    "                             #hyperparameters=hyperparameters, \n",
    "                             train_max_run=1800, \n",
    "                             debugger_hook_config=DebuggerHookConfig( s3_output_path=output_location, # Required \n",
    "                             collection_configs=[ CollectionConfig( name=\"metrics\", parameters={ \"save_interval\": str(save_interval) } ), \n",
    "                                                    CollectionConfig( name=\"feature_importance\", parameters={ \"save_interval\": str(save_interval) } ), \n",
    "                                                    CollectionConfig( name=\"full_shap\", parameters={ \"save_interval\": str(save_interval) } ), \n",
    "                                                    CollectionConfig( name=\"average_shap\", parameters={ \"save_interval\": str(save_interval) } ), ], ), \n",
    "                              rules=[ Rule.sagemaker( rule_configs.loss_not_decreasing(), \n",
    "                                                     rule_parameters={ \"collection_names\": \"metrics\", \"num_steps\": str(save_interval * 2), }, ), ],\n",
    ")\n",
    "xgboost_debugger.set_hyperparameters(\n",
    "    eta=.35,\n",
    "    num_round=52,                     # required parameter!\n",
    "    objective = 'reg:linear',\n",
    "    )"
   ]
  },
  {
   "cell_type": "markdown",
   "metadata": {},
   "source": [
    "## Fit Model"
   ]
  },
  {
   "cell_type": "code",
   "execution_count": 120,
   "metadata": {},
   "outputs": [
    {
     "name": "stdout",
     "output_type": "stream",
     "text": [
      "2020-11-19 11:16:16 Starting - Starting the training job...\n",
      "2020-11-19 11:16:18 Starting - Launching requested ML instances\n",
      "********* Debugger Rule Status *********\n",
      "*\n",
      "*  LossNotDecreasing: InProgress        \n",
      "*\n",
      "****************************************\n",
      "......\n",
      "2020-11-19 11:17:41 Starting - Preparing the instances for training......\n",
      "2020-11-19 11:18:42 Downloading - Downloading input data\n",
      "2020-11-19 11:18:42 Training - Downloading the training image..\n",
      "2020-11-19 11:19:02 Training - Training image download completed. Training in progress.\u001b[34mINFO:sagemaker-containers:Imported framework sagemaker_xgboost_container.training\u001b[0m\n",
      "\u001b[34mINFO:sagemaker-containers:Failed to parse hyperparameter objective value reg:linear to Json.\u001b[0m\n",
      "\u001b[34mReturning the value itself\u001b[0m\n",
      "\u001b[34mINFO:sagemaker-containers:No GPUs detected (normal if no gpus installed)\u001b[0m\n",
      "\u001b[34mINFO:sagemaker_xgboost_container.training:Running XGBoost Sagemaker in algorithm mode\u001b[0m\n",
      "\u001b[34mINFO:root:Determined delimiter of CSV input is ','\u001b[0m\n",
      "\u001b[34mINFO:root:Determined delimiter of CSV input is ','\u001b[0m\n",
      "\u001b[34mINFO:root:Determined delimiter of CSV input is ','\u001b[0m\n",
      "\u001b[34m[11:19:01] 804602x44 matrix with 35402488 entries loaded from /opt/ml/input/data/train?format=csv&label_column=0&delimiter=,\u001b[0m\n",
      "\u001b[34mINFO:root:Determined delimiter of CSV input is ','\u001b[0m\n",
      "\u001b[34m[11:19:01] 89652x44 matrix with 3944688 entries loaded from /opt/ml/input/data/validation?format=csv&label_column=0&delimiter=,\u001b[0m\n",
      "\u001b[34mINFO:root:Single node training.\u001b[0m\n",
      "\u001b[34m[2020-11-19 11:19:01.336 ip-10-0-119-142.eu-central-1.compute.internal:1 INFO json_config.py:90] Creating hook from json_config at /opt/ml/input/config/debughookconfig.json.\u001b[0m\n",
      "\u001b[34m[2020-11-19 11:19:01.336 ip-10-0-119-142.eu-central-1.compute.internal:1 INFO hook.py:151] tensorboard_dir has not been set for the hook. SMDebug will not be exporting tensorboard summaries.\u001b[0m\n",
      "\u001b[34m[2020-11-19 11:19:01.336 ip-10-0-119-142.eu-central-1.compute.internal:1 INFO hook.py:196] Saving to /opt/ml/output/tensors\u001b[0m\n",
      "\u001b[34mINFO:root:Debug hook created from config\u001b[0m\n",
      "\u001b[34mINFO:root:Train matrix has 804602 rows\u001b[0m\n",
      "\u001b[34mINFO:root:Validation matrix has 89652 rows\u001b[0m\n",
      "\u001b[34m[11:19:01] WARNING: /workspace/src/objective/regression_obj.cu:167: reg:linear is now deprecated in favor of reg:squarederror.\u001b[0m\n",
      "\u001b[34m[11:19:01] WARNING: /workspace/src/learner.cc:328: \u001b[0m\n",
      "\u001b[34mParameters: { num_round } might not be used.\n",
      "\n",
      "  This may not be accurate due to some parameters are only used in language bindings but\n",
      "  passed down to XGBoost core.  Or some parameters are not used but slip through this\n",
      "  verification. Please open an issue if you find above cases.\n",
      "\n",
      "\u001b[0m\n",
      "\u001b[34m[0]#011train-rmse:4.35367#011validation-rmse:4.34703\u001b[0m\n",
      "\u001b[34m[2020-11-19 11:19:02.003 ip-10-0-119-142.eu-central-1.compute.internal:1 INFO hook.py:325] Monitoring the collections: average_shap, feature_importance, full_shap, losses, metrics\u001b[0m\n",
      "\u001b[34m[1]#011train-rmse:2.98033#011validation-rmse:2.97442\u001b[0m\n",
      "\u001b[34m[2]#011train-rmse:2.14878#011validation-rmse:2.14300\u001b[0m\n",
      "\u001b[34m[3]#011train-rmse:1.67359#011validation-rmse:1.66769\u001b[0m\n",
      "\u001b[34m[4]#011train-rmse:1.42488#011validation-rmse:1.41914\u001b[0m\n",
      "\u001b[34m[5]#011train-rmse:1.30094#011validation-rmse:1.29549\u001b[0m\n",
      "\u001b[34m[6]#011train-rmse:1.24226#011validation-rmse:1.23677\u001b[0m\n",
      "\u001b[34m[7]#011train-rmse:1.21693#011validation-rmse:1.21167\u001b[0m\n",
      "\u001b[34m[8]#011train-rmse:1.20220#011validation-rmse:1.19716\u001b[0m\n",
      "\u001b[34m[9]#011train-rmse:1.19621#011validation-rmse:1.19151\u001b[0m\n",
      "\u001b[34m[10]#011train-rmse:1.19231#011validation-rmse:1.18784\u001b[0m\n",
      "\u001b[34m[11]#011train-rmse:1.18986#011validation-rmse:1.18559\u001b[0m\n",
      "\u001b[34m[12]#011train-rmse:1.18769#011validation-rmse:1.18361\u001b[0m\n",
      "\u001b[34m[13]#011train-rmse:1.18617#011validation-rmse:1.18208\u001b[0m\n",
      "\u001b[34m[14]#011train-rmse:1.18461#011validation-rmse:1.18064\u001b[0m\n",
      "\u001b[34m[15]#011train-rmse:1.18302#011validation-rmse:1.17891\u001b[0m\n",
      "\u001b[34m[16]#011train-rmse:1.18013#011validation-rmse:1.17623\u001b[0m\n",
      "\u001b[34m[17]#011train-rmse:1.17878#011validation-rmse:1.17518\u001b[0m\n",
      "\u001b[34m[18]#011train-rmse:1.17789#011validation-rmse:1.17444\u001b[0m\n",
      "\u001b[34m[19]#011train-rmse:1.17675#011validation-rmse:1.17322\u001b[0m\n",
      "\u001b[34m[20]#011train-rmse:1.17531#011validation-rmse:1.17177\u001b[0m\n",
      "\u001b[34m[21]#011train-rmse:1.17349#011validation-rmse:1.17007\u001b[0m\n",
      "\u001b[34m[22]#011train-rmse:1.17160#011validation-rmse:1.16823\u001b[0m\n",
      "\u001b[34m[23]#011train-rmse:1.17048#011validation-rmse:1.16708\u001b[0m\n",
      "\u001b[34m[24]#011train-rmse:1.17001#011validation-rmse:1.16669\u001b[0m\n",
      "\u001b[34m[25]#011train-rmse:1.16937#011validation-rmse:1.16612\u001b[0m\n",
      "\u001b[34m[26]#011train-rmse:1.16821#011validation-rmse:1.16494\u001b[0m\n",
      "\u001b[34m[27]#011train-rmse:1.16767#011validation-rmse:1.16444\u001b[0m\n",
      "\u001b[34m[28]#011train-rmse:1.16682#011validation-rmse:1.16364\u001b[0m\n",
      "\u001b[34m[29]#011train-rmse:1.16607#011validation-rmse:1.16294\u001b[0m\n",
      "\u001b[34m[30]#011train-rmse:1.16468#011validation-rmse:1.16178\u001b[0m\n",
      "\u001b[34m[31]#011train-rmse:1.16396#011validation-rmse:1.16121\u001b[0m\n",
      "\u001b[34m[32]#011train-rmse:1.16223#011validation-rmse:1.15982\u001b[0m\n",
      "\u001b[34m[33]#011train-rmse:1.16163#011validation-rmse:1.15931\u001b[0m\n",
      "\u001b[34m[34]#011train-rmse:1.16142#011validation-rmse:1.15916\u001b[0m\n",
      "\u001b[34m[35]#011train-rmse:1.16061#011validation-rmse:1.15827\u001b[0m\n",
      "\u001b[34m[36]#011train-rmse:1.15995#011validation-rmse:1.15770\u001b[0m\n",
      "\u001b[34m[37]#011train-rmse:1.15952#011validation-rmse:1.15736\u001b[0m\n",
      "\u001b[34m[38]#011train-rmse:1.15918#011validation-rmse:1.15713\u001b[0m\n",
      "\u001b[34m[39]#011train-rmse:1.15857#011validation-rmse:1.15657\u001b[0m\n",
      "\u001b[34m[40]#011train-rmse:1.15804#011validation-rmse:1.15609\u001b[0m\n",
      "\u001b[34m[41]#011train-rmse:1.15781#011validation-rmse:1.15593\u001b[0m\n",
      "\u001b[34m[42]#011train-rmse:1.15767#011validation-rmse:1.15587\u001b[0m\n",
      "\u001b[34m[43]#011train-rmse:1.15713#011validation-rmse:1.15550\u001b[0m\n",
      "\u001b[34m[44]#011train-rmse:1.15641#011validation-rmse:1.15495\u001b[0m\n",
      "\u001b[34m[45]#011train-rmse:1.15526#011validation-rmse:1.15379\u001b[0m\n",
      "\u001b[34m[46]#011train-rmse:1.15456#011validation-rmse:1.15316\u001b[0m\n",
      "\u001b[34m[47]#011train-rmse:1.15412#011validation-rmse:1.15276\u001b[0m\n",
      "\u001b[34m[48]#011train-rmse:1.15402#011validation-rmse:1.15269\u001b[0m\n",
      "\u001b[34m[49]#011train-rmse:1.15379#011validation-rmse:1.15249\u001b[0m\n",
      "\u001b[34m[50]#011train-rmse:1.15288#011validation-rmse:1.15182\u001b[0m\n",
      "\u001b[34m[51]#011train-rmse:1.15272#011validation-rmse:1.15174\u001b[0m\n",
      "\n",
      "2020-11-19 11:26:50 Uploading - Uploading generated training model\n",
      "2020-11-19 11:27:51 Completed - Training job completed\n",
      "Training seconds: 540\n",
      "Billable seconds: 540\n"
     ]
    }
   ],
   "source": [
    "xgboost_debugger.fit({\"train\": s3_input_train, \"validation\": s3_input_valid}, wait=True)"
   ]
  },
  {
   "cell_type": "code",
   "execution_count": 121,
   "metadata": {},
   "outputs": [
    {
     "name": "stdout",
     "output_type": "stream",
     "text": [
      "[2020-11-19 11:28:59.865 ip-172-16-29-248:6712 INFO s3_trial.py:42] Loading trial debug-output at path s3://aida-project/team_remote/output/JPC-xgboost-debug-2020-11-19-11-16-15-378/debug-output\n"
     ]
    }
   ],
   "source": [
    "#!pip install smdebug\n",
    "from smdebug.trials import create_trial\n",
    "s3_output_path = xgboost_debugger.latest_job_debugger_artifacts_path()\n",
    "trial = create_trial(s3_output_path)"
   ]
  },
  {
   "cell_type": "code",
   "execution_count": 122,
   "metadata": {},
   "outputs": [
    {
     "name": "stdout",
     "output_type": "stream",
     "text": [
      "[2020-11-19 11:29:09.190 ip-172-16-29-248:6712 INFO trial.py:198] Training has ended, will refresh one final time in 1 sec.\n",
      "[2020-11-19 11:29:10.209 ip-172-16-29-248:6712 INFO trial.py:210] Loaded all steps\n"
     ]
    },
    {
     "data": {
      "text/plain": [
       "['average_shap/f0',\n",
       " 'average_shap/f1',\n",
       " 'average_shap/f10',\n",
       " 'average_shap/f11',\n",
       " 'average_shap/f12',\n",
       " 'average_shap/f13',\n",
       " 'average_shap/f14',\n",
       " 'average_shap/f15',\n",
       " 'average_shap/f16',\n",
       " 'average_shap/f17',\n",
       " 'average_shap/f18',\n",
       " 'average_shap/f19',\n",
       " 'average_shap/f2',\n",
       " 'average_shap/f20',\n",
       " 'average_shap/f21',\n",
       " 'average_shap/f22',\n",
       " 'average_shap/f23',\n",
       " 'average_shap/f24',\n",
       " 'average_shap/f25',\n",
       " 'average_shap/f26',\n",
       " 'average_shap/f27',\n",
       " 'average_shap/f28',\n",
       " 'average_shap/f29',\n",
       " 'average_shap/f3',\n",
       " 'average_shap/f30',\n",
       " 'average_shap/f31',\n",
       " 'average_shap/f32',\n",
       " 'average_shap/f33',\n",
       " 'average_shap/f34',\n",
       " 'average_shap/f35',\n",
       " 'average_shap/f36',\n",
       " 'average_shap/f37',\n",
       " 'average_shap/f38',\n",
       " 'average_shap/f39',\n",
       " 'average_shap/f4',\n",
       " 'average_shap/f40',\n",
       " 'average_shap/f41',\n",
       " 'average_shap/f42',\n",
       " 'average_shap/f43',\n",
       " 'average_shap/f5',\n",
       " 'average_shap/f6',\n",
       " 'average_shap/f7',\n",
       " 'average_shap/f8',\n",
       " 'average_shap/f9',\n",
       " 'feature_importance/cover/f0',\n",
       " 'feature_importance/cover/f1',\n",
       " 'feature_importance/cover/f10',\n",
       " 'feature_importance/cover/f11',\n",
       " 'feature_importance/cover/f12',\n",
       " 'feature_importance/cover/f13',\n",
       " 'feature_importance/cover/f14',\n",
       " 'feature_importance/cover/f15',\n",
       " 'feature_importance/cover/f16',\n",
       " 'feature_importance/cover/f17',\n",
       " 'feature_importance/cover/f18',\n",
       " 'feature_importance/cover/f19',\n",
       " 'feature_importance/cover/f2',\n",
       " 'feature_importance/cover/f20',\n",
       " 'feature_importance/cover/f22',\n",
       " 'feature_importance/cover/f23',\n",
       " 'feature_importance/cover/f24',\n",
       " 'feature_importance/cover/f25',\n",
       " 'feature_importance/cover/f26',\n",
       " 'feature_importance/cover/f27',\n",
       " 'feature_importance/cover/f28',\n",
       " 'feature_importance/cover/f29',\n",
       " 'feature_importance/cover/f3',\n",
       " 'feature_importance/cover/f30',\n",
       " 'feature_importance/cover/f31',\n",
       " 'feature_importance/cover/f32',\n",
       " 'feature_importance/cover/f33',\n",
       " 'feature_importance/cover/f34',\n",
       " 'feature_importance/cover/f35',\n",
       " 'feature_importance/cover/f36',\n",
       " 'feature_importance/cover/f37',\n",
       " 'feature_importance/cover/f38',\n",
       " 'feature_importance/cover/f39',\n",
       " 'feature_importance/cover/f4',\n",
       " 'feature_importance/cover/f40',\n",
       " 'feature_importance/cover/f41',\n",
       " 'feature_importance/cover/f42',\n",
       " 'feature_importance/cover/f43',\n",
       " 'feature_importance/cover/f5',\n",
       " 'feature_importance/cover/f6',\n",
       " 'feature_importance/cover/f7',\n",
       " 'feature_importance/cover/f8',\n",
       " 'feature_importance/cover/f9',\n",
       " 'feature_importance/gain/f0',\n",
       " 'feature_importance/gain/f1',\n",
       " 'feature_importance/gain/f10',\n",
       " 'feature_importance/gain/f11',\n",
       " 'feature_importance/gain/f12',\n",
       " 'feature_importance/gain/f13',\n",
       " 'feature_importance/gain/f14',\n",
       " 'feature_importance/gain/f15',\n",
       " 'feature_importance/gain/f16',\n",
       " 'feature_importance/gain/f17',\n",
       " 'feature_importance/gain/f18',\n",
       " 'feature_importance/gain/f19',\n",
       " 'feature_importance/gain/f2',\n",
       " 'feature_importance/gain/f20',\n",
       " 'feature_importance/gain/f22',\n",
       " 'feature_importance/gain/f23',\n",
       " 'feature_importance/gain/f24',\n",
       " 'feature_importance/gain/f25',\n",
       " 'feature_importance/gain/f26',\n",
       " 'feature_importance/gain/f27',\n",
       " 'feature_importance/gain/f28',\n",
       " 'feature_importance/gain/f29',\n",
       " 'feature_importance/gain/f3',\n",
       " 'feature_importance/gain/f30',\n",
       " 'feature_importance/gain/f31',\n",
       " 'feature_importance/gain/f32',\n",
       " 'feature_importance/gain/f33',\n",
       " 'feature_importance/gain/f34',\n",
       " 'feature_importance/gain/f35',\n",
       " 'feature_importance/gain/f36',\n",
       " 'feature_importance/gain/f37',\n",
       " 'feature_importance/gain/f38',\n",
       " 'feature_importance/gain/f39',\n",
       " 'feature_importance/gain/f4',\n",
       " 'feature_importance/gain/f40',\n",
       " 'feature_importance/gain/f41',\n",
       " 'feature_importance/gain/f42',\n",
       " 'feature_importance/gain/f43',\n",
       " 'feature_importance/gain/f5',\n",
       " 'feature_importance/gain/f6',\n",
       " 'feature_importance/gain/f7',\n",
       " 'feature_importance/gain/f8',\n",
       " 'feature_importance/gain/f9',\n",
       " 'feature_importance/total_cover/f0',\n",
       " 'feature_importance/total_cover/f1',\n",
       " 'feature_importance/total_cover/f10',\n",
       " 'feature_importance/total_cover/f11',\n",
       " 'feature_importance/total_cover/f12',\n",
       " 'feature_importance/total_cover/f13',\n",
       " 'feature_importance/total_cover/f14',\n",
       " 'feature_importance/total_cover/f15',\n",
       " 'feature_importance/total_cover/f16',\n",
       " 'feature_importance/total_cover/f17',\n",
       " 'feature_importance/total_cover/f18',\n",
       " 'feature_importance/total_cover/f19',\n",
       " 'feature_importance/total_cover/f2',\n",
       " 'feature_importance/total_cover/f20',\n",
       " 'feature_importance/total_cover/f22',\n",
       " 'feature_importance/total_cover/f23',\n",
       " 'feature_importance/total_cover/f24',\n",
       " 'feature_importance/total_cover/f25',\n",
       " 'feature_importance/total_cover/f26',\n",
       " 'feature_importance/total_cover/f27',\n",
       " 'feature_importance/total_cover/f28',\n",
       " 'feature_importance/total_cover/f29',\n",
       " 'feature_importance/total_cover/f3',\n",
       " 'feature_importance/total_cover/f30',\n",
       " 'feature_importance/total_cover/f31',\n",
       " 'feature_importance/total_cover/f32',\n",
       " 'feature_importance/total_cover/f33',\n",
       " 'feature_importance/total_cover/f34',\n",
       " 'feature_importance/total_cover/f35',\n",
       " 'feature_importance/total_cover/f36',\n",
       " 'feature_importance/total_cover/f37',\n",
       " 'feature_importance/total_cover/f38',\n",
       " 'feature_importance/total_cover/f39',\n",
       " 'feature_importance/total_cover/f4',\n",
       " 'feature_importance/total_cover/f40',\n",
       " 'feature_importance/total_cover/f41',\n",
       " 'feature_importance/total_cover/f42',\n",
       " 'feature_importance/total_cover/f43',\n",
       " 'feature_importance/total_cover/f5',\n",
       " 'feature_importance/total_cover/f6',\n",
       " 'feature_importance/total_cover/f7',\n",
       " 'feature_importance/total_cover/f8',\n",
       " 'feature_importance/total_cover/f9',\n",
       " 'feature_importance/total_gain/f0',\n",
       " 'feature_importance/total_gain/f1',\n",
       " 'feature_importance/total_gain/f10',\n",
       " 'feature_importance/total_gain/f11',\n",
       " 'feature_importance/total_gain/f12',\n",
       " 'feature_importance/total_gain/f13',\n",
       " 'feature_importance/total_gain/f14',\n",
       " 'feature_importance/total_gain/f15',\n",
       " 'feature_importance/total_gain/f16',\n",
       " 'feature_importance/total_gain/f17',\n",
       " 'feature_importance/total_gain/f18',\n",
       " 'feature_importance/total_gain/f19',\n",
       " 'feature_importance/total_gain/f2',\n",
       " 'feature_importance/total_gain/f20',\n",
       " 'feature_importance/total_gain/f22',\n",
       " 'feature_importance/total_gain/f23',\n",
       " 'feature_importance/total_gain/f24',\n",
       " 'feature_importance/total_gain/f25',\n",
       " 'feature_importance/total_gain/f26',\n",
       " 'feature_importance/total_gain/f27',\n",
       " 'feature_importance/total_gain/f28',\n",
       " 'feature_importance/total_gain/f29',\n",
       " 'feature_importance/total_gain/f3',\n",
       " 'feature_importance/total_gain/f30',\n",
       " 'feature_importance/total_gain/f31',\n",
       " 'feature_importance/total_gain/f32',\n",
       " 'feature_importance/total_gain/f33',\n",
       " 'feature_importance/total_gain/f34',\n",
       " 'feature_importance/total_gain/f35',\n",
       " 'feature_importance/total_gain/f36',\n",
       " 'feature_importance/total_gain/f37',\n",
       " 'feature_importance/total_gain/f38',\n",
       " 'feature_importance/total_gain/f39',\n",
       " 'feature_importance/total_gain/f4',\n",
       " 'feature_importance/total_gain/f40',\n",
       " 'feature_importance/total_gain/f41',\n",
       " 'feature_importance/total_gain/f42',\n",
       " 'feature_importance/total_gain/f43',\n",
       " 'feature_importance/total_gain/f5',\n",
       " 'feature_importance/total_gain/f6',\n",
       " 'feature_importance/total_gain/f7',\n",
       " 'feature_importance/total_gain/f8',\n",
       " 'feature_importance/total_gain/f9',\n",
       " 'feature_importance/weight/f0',\n",
       " 'feature_importance/weight/f1',\n",
       " 'feature_importance/weight/f10',\n",
       " 'feature_importance/weight/f11',\n",
       " 'feature_importance/weight/f12',\n",
       " 'feature_importance/weight/f13',\n",
       " 'feature_importance/weight/f14',\n",
       " 'feature_importance/weight/f15',\n",
       " 'feature_importance/weight/f16',\n",
       " 'feature_importance/weight/f17',\n",
       " 'feature_importance/weight/f18',\n",
       " 'feature_importance/weight/f19',\n",
       " 'feature_importance/weight/f2',\n",
       " 'feature_importance/weight/f20',\n",
       " 'feature_importance/weight/f22',\n",
       " 'feature_importance/weight/f23',\n",
       " 'feature_importance/weight/f24',\n",
       " 'feature_importance/weight/f25',\n",
       " 'feature_importance/weight/f26',\n",
       " 'feature_importance/weight/f27',\n",
       " 'feature_importance/weight/f28',\n",
       " 'feature_importance/weight/f29',\n",
       " 'feature_importance/weight/f3',\n",
       " 'feature_importance/weight/f30',\n",
       " 'feature_importance/weight/f31',\n",
       " 'feature_importance/weight/f32',\n",
       " 'feature_importance/weight/f33',\n",
       " 'feature_importance/weight/f34',\n",
       " 'feature_importance/weight/f35',\n",
       " 'feature_importance/weight/f36',\n",
       " 'feature_importance/weight/f37',\n",
       " 'feature_importance/weight/f38',\n",
       " 'feature_importance/weight/f39',\n",
       " 'feature_importance/weight/f4',\n",
       " 'feature_importance/weight/f40',\n",
       " 'feature_importance/weight/f41',\n",
       " 'feature_importance/weight/f42',\n",
       " 'feature_importance/weight/f43',\n",
       " 'feature_importance/weight/f5',\n",
       " 'feature_importance/weight/f6',\n",
       " 'feature_importance/weight/f7',\n",
       " 'feature_importance/weight/f8',\n",
       " 'feature_importance/weight/f9',\n",
       " 'full_shap/f0',\n",
       " 'full_shap/f1',\n",
       " 'full_shap/f10',\n",
       " 'full_shap/f11',\n",
       " 'full_shap/f12',\n",
       " 'full_shap/f13',\n",
       " 'full_shap/f14',\n",
       " 'full_shap/f15',\n",
       " 'full_shap/f16',\n",
       " 'full_shap/f17',\n",
       " 'full_shap/f18',\n",
       " 'full_shap/f19',\n",
       " 'full_shap/f2',\n",
       " 'full_shap/f20',\n",
       " 'full_shap/f21',\n",
       " 'full_shap/f22',\n",
       " 'full_shap/f23',\n",
       " 'full_shap/f24',\n",
       " 'full_shap/f25',\n",
       " 'full_shap/f26',\n",
       " 'full_shap/f27',\n",
       " 'full_shap/f28',\n",
       " 'full_shap/f29',\n",
       " 'full_shap/f3',\n",
       " 'full_shap/f30',\n",
       " 'full_shap/f31',\n",
       " 'full_shap/f32',\n",
       " 'full_shap/f33',\n",
       " 'full_shap/f34',\n",
       " 'full_shap/f35',\n",
       " 'full_shap/f36',\n",
       " 'full_shap/f37',\n",
       " 'full_shap/f38',\n",
       " 'full_shap/f39',\n",
       " 'full_shap/f4',\n",
       " 'full_shap/f40',\n",
       " 'full_shap/f41',\n",
       " 'full_shap/f42',\n",
       " 'full_shap/f43',\n",
       " 'full_shap/f5',\n",
       " 'full_shap/f6',\n",
       " 'full_shap/f7',\n",
       " 'full_shap/f8',\n",
       " 'full_shap/f9',\n",
       " 'train-rmse',\n",
       " 'validation-rmse']"
      ]
     },
     "execution_count": 122,
     "metadata": {},
     "output_type": "execute_result"
    }
   ],
   "source": [
    "trial.tensor_names()"
   ]
  },
  {
   "cell_type": "code",
   "execution_count": 123,
   "metadata": {},
   "outputs": [
    {
     "data": {
      "text/plain": [
       "{10: array([0.03720922]),\n",
       " 20: array([0.05082452]),\n",
       " 30: array([0.05250666]),\n",
       " 40: array([0.05187062]),\n",
       " 50: array([0.04307063])}"
      ]
     },
     "execution_count": 123,
     "metadata": {},
     "output_type": "execute_result"
    }
   ],
   "source": [
    "trial.tensor(\"feature_importance/cover/f0\").values()"
   ]
  },
  {
   "cell_type": "code",
   "execution_count": 124,
   "metadata": {},
   "outputs": [],
   "source": [
    "liste = trial.tensor_names()"
   ]
  },
  {
   "cell_type": "code",
   "execution_count": 125,
   "metadata": {},
   "outputs": [],
   "source": [
    "#[k for k in lst if 'ab' in k]\n",
    "feature_importance_names = [k for k in liste if 'feature_importance/cover' in k]\n",
    "feature_importance_col_names = ['isAdult', 'startYear', 'endYear', 'numVotes', 'Crime', 'Romance', 'Thriller', 'Adventure', 'Drama', 'War', 'Documentary', 'Reality-TV', 'Family', 'Fantasy', 'Game-Show', 'Adult', 'History', 'Mystery', 'Musical', 'Animation', 'Music', 'Film-Noir', 'shortGenre', 'Horror', 'Western', 'Biography', 'Comedy', 'Action', 'Sport', 'Talk-Show', 'Sci-Fi', 'News', 'movie', 'short', 'tvEpisode', 'tvMiniSeries', 'tvMovie', 'tvSeries', 'tvShort', 'tvSpecial', 'video', 'videoGame', 'distinct languages', 'distinct regions']\n",
    "feature_importance_weight = [k for k in liste if 'feature_importance/weight' in k]"
   ]
  },
  {
   "cell_type": "code",
   "execution_count": 129,
   "metadata": {},
   "outputs": [
    {
     "name": "stdout",
     "output_type": "stream",
     "text": [
      "{'isAdult': 0.051870616709514795, 'startYear': 0.0068552054482087805, 'endYear': 0.020600517957517484, 'numVotes': 0.015018457755236947, 'Crime': 0.0077789742337376275, 'Romance': 0.024436460679591605, 'Thriller': 0.02177989014602345, 'Adventure': 0.007315605840040056, 'Drama': 0.03892486094197277, 'War': 0.02830462288971139, 'Documentary': 0.001847441560197772, 'Reality-TV': 0.00945033180503466, 'Family': 0.024650948785695317, 'Fantasy': 0.019111058624877636, 'Game-Show': 0.005207493564033782, 'Adult': 0.02404315905087215, 'History': 0.03991239365001827, 'Mystery': 0.028312381061839465, 'Musical': 0.0032679464392942623, 'Animation': 0.004561569970687885, 'Music': 0.011344533002737087, 'Film-Noir': 0.025266799097763425, 'shortGenre': 0.010608078222545576, 'Horror': 0.03481981569775824, 'Western': 0.061439796222692994, 'Biography': 0.025797894254212382, 'Comedy': 0.015427907292803545, 'Action': 0.015099791390732609, 'Sport': 0.10141552735230513, 'Talk-Show': 0.013619152789042474, 'Sci-Fi': 0.013362514385483573, 'News': 3.504767371934292e-05, 'movie': 0.027383236236998298, 'short': 0.026249505981260326, 'tvEpisode': 0.012443872791681588, 'tvMiniSeries': 0.06520570927848704, 'tvMovie': 0.014247085997188793, 'tvSeries': 0.014449841285434672, 'tvShort': 0.017091476418457978, 'tvSpecial': 0.02843543405586605, 'video': 0.006989547238334763, 'videoGame': 0.011930947270619992, 'distinct languages': 0.06408654894976777}\n",
      "{'isAdult': 0.043070633060439546, 'startYear': 0.007380599209238163, 'endYear': 0.01680715591483466, 'numVotes': 0.014729369591736773, 'Crime': 0.008675791912772459, 'Romance': 0.018864678649165335, 'Thriller': 0.019857007618346297, 'Adventure': 0.0111572589578705, 'Drama': 0.03569844428840835, 'War': 0.026027873911947212, 'Documentary': 0.004243897242865821, 'Reality-TV': 0.010987531128428775, 'Family': 0.023886251401637394, 'Fantasy': 0.019636491752060985, 'Game-Show': 0.0047985481200190135, 'Adult': 0.023522206981917097, 'History': 0.045496208101381094, 'Mystery': 0.02403963828534207, 'Musical': 0.005559561293491315, 'Animation': 0.005575477818618715, 'Music': 0.012658318095690086, 'Film-Noir': 0.023573496069841087, 'shortGenre': 0.010704162928185374, 'Horror': 0.0298902649955347, 'Western': 0.05429731831675873, 'Biography': 0.025938731072778817, 'Comedy': 0.01783569714452138, 'Action': 0.012901508832324, 'Sport': 0.0772715932370043, 'Talk-Show': 0.014151690409486344, 'Sci-Fi': 0.014323628863418262, 'News': 0.07045080751388284, 'movie': 0.030000880483581932, 'short': 0.019302663831728784, 'tvEpisode': 0.01130773971066375, 'tvMiniSeries': 0.05861501909501618, 'tvMovie': 0.014951517522723739, 'tvSeries': 0.01654198625670346, 'tvShort': 0.018816013356613624, 'tvSpecial': 0.023370621568420343, 'video': 0.006967644711648789, 'videoGame': 0.010338469797900368, 'distinct languages': 0.055775600945051455}\n"
     ]
    }
   ],
   "source": [
    "feat_dict_10={}\n",
    "feat_dict_50={}\n",
    "for i,f in enumerate(feature_importance_names):\n",
    "    #print(feature_importance_col_names[i],\"\\t\\t\",end='')\n",
    "    #print(trial.tensor(f).values())\n",
    "    #print(trial.tensor(f).values()[40][0])\n",
    "    try:\n",
    "        feat_dict_10[feature_importance_col_names[i]]=trial.tensor(f).values()[10][0]\n",
    "    except:\n",
    "        feat_dict_10[feature_importance_col_names[i]]=0\n",
    "    #break\n",
    "print(feat_dict)\n",
    "for i,f in enumerate(feature_importance_names):\n",
    "    try:\n",
    "        feat_dict_50[feature_importance_col_names[i]]=trial.tensor(f).values()[50][0]\n",
    "    except:\n",
    "        feat_dict_50[feature_importance_col_names[i]]=0\n",
    "print(feat_dict_50)"
   ]
  },
  {
   "cell_type": "code",
   "execution_count": 130,
   "metadata": {},
   "outputs": [
    {
     "name": "stdout",
     "output_type": "stream",
     "text": [
      "isAdult \t\t{10: array([0.0058651]), 20: array([0.0046332]), 30: array([0.00313152]), 40: array([0.00238284]), 50: array([0.00292778])}\n",
      "startYear \t\t{0: array([0.23728814]), 10: array([0.20234604]), 20: array([0.19459459]), 30: array([0.19832985]), 40: array([0.19142176]), 50: array([0.18867925])}\n",
      "endYear \t\t{0: array([0.05084746]), 10: array([0.02932551]), 20: array([0.02162162]), 30: array([0.01983299]), 40: array([0.01787133]), 50: array([0.017892])}\n",
      "numVotes \t\t{0: array([0.05084746]), 10: array([0.02639296]), 20: array([0.02239382]), 30: array([0.02035491]), 40: array([0.02065131]), 50: array([0.01724138])}\n",
      "Crime \t\t{10: array([0.01173021]), 20: array([0.01698842]), 30: array([0.02139875]), 40: array([0.02184273]), 50: array([0.0214704])}\n",
      "Romance \t\t{10: array([0.0058651]), 20: array([0.00849421]), 30: array([0.00887265]), 40: array([0.0107228]), 50: array([0.01203643])}\n",
      "Thriller \t\t{0: array([0.01694915]), 10: array([0.01026393]), 20: array([0.00772201]), 30: array([0.00887265]), 40: array([0.00913423]), 50: array([0.00910865])}\n",
      "Adventure \t\t{10: array([0.00439883]), 20: array([0.0023166]), 30: array([0.00313152]), 40: array([0.00357427]), 50: array([0.0035784])}\n",
      "Drama \t\t{10: array([0.00439883]), 20: array([0.00617761]), 30: array([0.00626305]), 40: array([0.00555997]), 50: array([0.00487964])}\n",
      "War \t\t{10: array([0.0058651]), 20: array([0.01003861]), 30: array([0.00939457]), 40: array([0.00992851]), 50: array([0.00975927])}\n",
      "Documentary \t\t{10: array([0.0058651]), 20: array([0.0046332]), 30: array([0.00521921]), 40: array([0.00595711]), 50: array([0.00553025])}\n",
      "Reality-TV \t\t{0: array([0.01694915]), 10: array([0.02785924]), 20: array([0.02779923]), 30: array([0.02400835]), 40: array([0.02462272]), 50: array([0.02667534])}\n",
      "Family \t\t{0: array([0.01694915]), 10: array([0.02639296]), 20: array([0.02857143]), 30: array([0.03079332]), 40: array([0.03256553]), 50: array([0.03838647])}\n",
      "Fantasy \t\t{10: array([0.02052786]), 20: array([0.01544402]), 30: array([0.01565762]), 40: array([0.0146942]), 50: array([0.01463891])}\n",
      "Game-Show \t\t{10: array([0.01319648]), 20: array([0.01003861]), 30: array([0.01043841]), 40: array([0.0107228]), 50: array([0.01203643])}\n",
      "Adult \t\t{0: array([0.08474576]), 10: array([0.04105572]), 20: array([0.02857143]), 30: array([0.02192067]), 40: array([0.02263701]), 50: array([0.02212101])}\n",
      "History \t\t{10: array([0.00293255]), 20: array([0.0030888]), 30: array([0.00365344]), 40: array([0.00317712]), 50: array([0.00325309])}\n",
      "Mystery \t\t{0: array([0.01694915]), 10: array([0.01026393]), 20: array([0.00772201]), 30: array([0.00626305]), 40: array([0.00595711]), 50: array([0.00650618])}\n",
      "Musical \t\t{10: array([0.02492669]), 20: array([0.02779923]), 30: array([0.03392484]), 40: array([0.03534551]), 50: array([0.03285621])}\n",
      "Animation \t\t{10: array([0.01906158]), 20: array([0.01776062]), 30: array([0.01878914]), 40: array([0.01787133]), 50: array([0.01886792])}\n",
      "Music \t\t{10: array([0.00879765]), 20: array([0.01003861]), 30: array([0.01200418]), 40: array([0.0127085]), 50: array([0.01268705])}\n",
      "Film-Noir \t\t{0: array([0.01694915]), 10: array([0.01026393]), 20: array([0.00849421]), 30: array([0.00991649]), 40: array([0.01111994]), 50: array([0.01008458])}\n",
      "shortGenre \t\t{0: array([0.23728814]), 10: array([0.21994135]), 20: array([0.20772201]), 30: array([0.19467641]), 40: array([0.18943606]), 50: array([0.1906311])}\n",
      "Horror \t\t{10: array([0.01026393]), 20: array([0.01158301]), 30: array([0.01043841]), 40: array([0.01032566]), 50: array([0.00975927])}\n",
      "Western \t\t{0: array([0.01694915]), 10: array([0.00879765]), 20: array([0.00540541]), 30: array([0.00574113]), 40: array([0.00516283]), 50: array([0.00553025])}\n",
      "Biography \t\t{0: array([0.01694915]), 10: array([0.01612903]), 20: array([0.01312741]), 30: array([0.01200418]), 40: array([0.01429706]), 50: array([0.0143136])}\n",
      "Comedy \t\t{10: array([0.00879765]), 20: array([0.00926641]), 30: array([0.00939457]), 40: array([0.00992851]), 50: array([0.00943396])}\n",
      "Action \t\t{0: array([0.01694915]), 10: array([0.01319648]), 20: array([0.01853282]), 30: array([0.02192067]), 40: array([0.02303415]), 50: array([0.02342225])}\n",
      "Sport \t\t{10: array([0.00293255]), 20: array([0.0030888]), 30: array([0.0026096]), 40: array([0.00277998]), 50: array([0.00292778])}\n",
      "Talk-Show \t\t{0: array([0.01694915]), 10: array([0.01906158]), 20: array([0.01621622]), 30: array([0.01670146]), 40: array([0.01548848]), 50: array([0.01496422])}\n",
      "Sci-Fi \t\t{10: array([0.00733138]), 20: array([0.01544402]), 30: array([0.0151357]), 40: array([0.01628276]), 50: array([0.01561483])}\n",
      "News \t\t{10: array([0.00146628]), 20: array([0.0007722]), 30: array([0.00052192]), 40: array([0.00039714]), 50: array([0.00065062])}\n",
      "movie \t\t{20: array([0.0023166]), 30: array([0.00521921]), 40: array([0.00595711]), 50: array([0.00618087])}\n",
      "short \t\t{10: array([0.00293255]), 20: array([0.01081081]), 30: array([0.00991649]), 40: array([0.00992851]), 50: array([0.01138582])}\n",
      "tvEpisode \t\t{0: array([0.01694915]), 10: array([0.01906158]), 20: array([0.01467181]), 30: array([0.01461378]), 40: array([0.01548848]), 50: array([0.01496422])}\n",
      "tvMiniSeries \t\t{10: array([0.00439883]), 20: array([0.0046332]), 30: array([0.00469729]), 40: array([0.00436855]), 50: array([0.00390371])}\n",
      "tvMovie \t\t{0: array([0.06779661]), 10: array([0.03372434]), 20: array([0.03552124]), 30: array([0.03549061]), 40: array([0.03574265]), 50: array([0.03448276])}\n",
      "tvSeries \t\t{0: array([0.06779661]), 10: array([0.05131965]), 20: array([0.06100386]), 30: array([0.0631524]), 40: array([0.06830818]), 50: array([0.06929083])}\n",
      "tvShort \t\t{10: array([0.00879765]), 20: array([0.01158301]), 30: array([0.01565762]), 40: array([0.01588562]), 50: array([0.01561483])}\n",
      "tvSpecial \t\t{10: array([0.01026393]), 20: array([0.01158301]), 30: array([0.00939457]), 40: array([0.00913423]), 50: array([0.00910865])}\n",
      "video \t\t{10: array([0.01319648]), 20: array([0.02316602]), 30: array([0.02087683]), 40: array([0.02144559]), 50: array([0.02212101])}\n",
      "videoGame \t\t{0: array([0.03389831]), 10: array([0.02785924]), 20: array([0.03629344]), 30: array([0.03549061]), 40: array([0.03296267]), 50: array([0.03155498])}\n",
      "distinct languages \t\t{10: array([0.00293255]), 20: array([0.0023166]), 30: array([0.00417537]), 40: array([0.00317712]), 50: array([0.00292778])}\n"
     ]
    }
   ],
   "source": [
    "feat_weight_dict={}\n",
    "for i,f in enumerate(feature_importance_weight):\n",
    "    print(feature_importance_col_names[i],\"\\t\\t\",end='')\n",
    "    print(trial.tensor(f).values())\n",
    "    #print(trial.tensor(f).values()[40][0])\n",
    "    feat_weight_dict[feature_importance_col_names[i]]=trial.tensor(f).values()[50][0]\n",
    "    #break\n",
    "#print(feat_weight_dict)"
   ]
  },
  {
   "cell_type": "code",
   "execution_count": 132,
   "metadata": {},
   "outputs": [
    {
     "data": {
      "image/png": "[encoded data removed]",
      "text/plain": [
       "<Figure size 432x288 with 1 Axes>"
      ]
     },
     "metadata": {
      "needs_background": "light"
     },
     "output_type": "display_data"
    },
    {
     "data": {
      "text/plain": [
       "Text(0.5, 1.0, 'Feature_importances (after 50 traingin steps)')"
      ]
     },
     "execution_count": 132,
     "metadata": {},
     "output_type": "execute_result"
    },
    {
     "data": {
      "image/png": "[encoded data removed]",
      "text/plain": [
       "<Figure size 432x288 with 1 Axes>"
      ]
     },
     "metadata": {
      "needs_background": "light"
     },
     "output_type": "display_data"
    }
   ],
   "source": [
    "plt.bar(range(len(feat_dict_10)),list(feat_dict_10.values()))\n",
    "plt.title(\"Feature_importances (after 10 traingin steps)\", fontsize=20)\n",
    "plt.show()\n",
    "plt.bar(range(len(feat_dict_50)),list(feat_dict_50.values()))\n",
    "plt.title(\"Feature_importances (after 50 traingin steps)\", fontsize=20)"
   ]
  },
  {
   "cell_type": "code",
   "execution_count": 133,
   "metadata": {},
   "outputs": [
    {
     "data": {
      "text/plain": [
       "Text(0.5, 1.0, 'Feature_importances_weight')"
      ]
     },
     "execution_count": 133,
     "metadata": {},
     "output_type": "execute_result"
    },
    {
     "data": {
      "image/png": "[encoded data removed]",
      "text/plain": [
       "<Figure size 432x288 with 1 Axes>"
      ]
     },
     "metadata": {
      "needs_background": "light"
     },
     "output_type": "display_data"
    }
   ],
   "source": [
    "plt.bar(range(len(feat_weight_dict)),list(feat_weight_dict.values()))\n",
    "plt.title(\"Feature_importances_weight\", fontsize=20)"
   ]
  },
  {
   "cell_type": "code",
   "execution_count": 134,
   "metadata": {},
   "outputs": [],
   "source": [
    "import pandas as pd\n",
    "\n",
    "\n"
   ]
  },
  {
   "cell_type": "code",
   "execution_count": 138,
   "metadata": {},
   "outputs": [
    {
     "data": {
      "image/png": "[encoded data removed]",
      "text/plain": [
       "<Figure size 1440x720 with 1 Axes>"
      ]
     },
     "metadata": {
      "needs_background": "light"
     },
     "output_type": "display_data"
    },
    {
     "data": {
      "text/plain": [
       "<Figure size 432x288 with 0 Axes>"
      ]
     },
     "metadata": {},
     "output_type": "display_data"
    }
   ],
   "source": [
    "from datetime import datetime\n",
    "\n",
    "now = datetime.now() # current date and time\n",
    "time = now.strftime(\"%m-%d-%Y-%H-%M-%S\")\n",
    "#print(time)\n",
    "\n",
    "dict = feat_dict_50\n",
    "\n",
    "fig,ax = plt.subplots(figsize=(20,10))\n",
    "\n",
    "#pd.DataFrame(feat_dict, index=['quantity']).plot(kind='bar',ax=ax,use_index=False, legend=False,width=1.4)\n",
    "plt.bar(*zip(*dict.items()))\n",
    "plt.title('Feature Importances (50 runs)', fontsize=20)\n",
    "plt.xlabel('Feature', fontsize=20)\n",
    "plt.ylabel('share', fontsize=20)\n",
    "plt.xticks(ticks=[])\n",
    "threshold=0.038\n",
    "pad=0.001\n",
    "i=0\n",
    "for k,v in dict.items():\n",
    "    if v > threshold:\n",
    "        ax.text(i,v+pad,k.replace(\" \",\"\\n\"),horizontalalignment='center',fontsize=20)\n",
    "    #reak\n",
    "    i +=1\n",
    "#plt.xlim([0,10])\n",
    "#plt.ylim([0,10])\n",
    "#plt.plot([0,10],[0,10], c='red')\n",
    "\n",
    "plt.show()\n",
    "save_it=True\n",
    "if save_it == True:\n",
    "    filename='Feature_importance_1-'+time\n",
    "    plt.savefig(filename, dpi=None, facecolor='w', edgecolor='w',\n",
    "        orientation='portrait')"
   ]
  },
  {
   "cell_type": "code",
   "execution_count": 89,
   "metadata": {},
   "outputs": [
    {
     "name": "stdout",
     "output_type": "stream",
     "text": [
      "isAdult 0.051870616709514795\n"
     ]
    }
   ],
   "source": [
    "for k,v in feat_dict.items():\n",
    "    print(k,v)\n",
    "    break"
   ]
  },
  {
   "cell_type": "markdown",
   "metadata": {},
   "source": [
    "# Deploy Model"
   ]
  },
  {
   "cell_type": "markdown",
   "metadata": {},
   "source": [
    "## Deploy"
   ]
  },
  {
   "cell_type": "code",
   "execution_count": 76,
   "metadata": {},
   "outputs": [
    {
     "name": "stderr",
     "output_type": "stream",
     "text": [
      "Parameter image will be renamed to image_uri in SageMaker Python SDK v2.\n"
     ]
    },
    {
     "name": "stdout",
     "output_type": "stream",
     "text": [
      "-----------------!"
     ]
    }
   ],
   "source": [
    "# Deploy  model to an endpoint\n",
    "\n",
    "xgb_predictor = xgboost.deploy(\n",
    "    initial_instance_count = 1, \n",
    "    instance_type = 'ml.t2.medium')"
   ]
  },
  {
   "cell_type": "markdown",
   "metadata": {},
   "source": [
    "## Configure Predictor"
   ]
  },
  {
   "cell_type": "code",
   "execution_count": 77,
   "metadata": {},
   "outputs": [],
   "source": [
    "# Configure the predictor's serializer and deserializer\n",
    "\n",
    "# INSERT CODE HERE\n",
    "\n",
    "from sagemaker.predictor import csv_serializer, json_deserializer\n",
    "\n",
    "xgb_predictor.content_type = \"text/csv\"\n",
    "xgb_predictor.serializer = csv_serializer\n",
    "xgb_predictor.deserializer = json_deserializer"
   ]
  },
  {
   "cell_type": "markdown",
   "metadata": {},
   "source": [
    "# Display Endpoint"
   ]
  },
  {
   "cell_type": "code",
   "execution_count": 78,
   "metadata": {},
   "outputs": [
    {
     "data": {
      "text/plain": [
       "'JPC-xgboost-2020-11-18-14-16-01-550'"
      ]
     },
     "execution_count": 78,
     "metadata": {},
     "output_type": "execute_result"
    }
   ],
   "source": [
    "xgb_predictor.endpoint"
   ]
  },
  {
   "cell_type": "markdown",
   "metadata": {},
   "source": [
    "# Prediction"
   ]
  },
  {
   "cell_type": "code",
   "execution_count": 80,
   "metadata": {},
   "outputs": [
    {
     "name": "stdout",
     "output_type": "stream",
     "text": [
      "0\n",
      "1000\n",
      "2000\n",
      "3000\n",
      "4000\n",
      "5000\n",
      "6000\n",
      "7000\n",
      "8000\n",
      "9000\n",
      "10000\n",
      "11000\n",
      "12000\n",
      "13000\n",
      "14000\n",
      "15000\n",
      "16000\n",
      "17000\n",
      "18000\n",
      "19000\n",
      "20000\n",
      "21000\n",
      "22000\n",
      "23000\n",
      "24000\n",
      "25000\n",
      "26000\n",
      "27000\n",
      "28000\n",
      "29000\n",
      "30000\n",
      "31000\n",
      "32000\n",
      "33000\n",
      "34000\n",
      "35000\n",
      "36000\n",
      "37000\n",
      "38000\n",
      "39000\n",
      "40000\n",
      "41000\n",
      "42000\n",
      "43000\n",
      "44000\n",
      "45000\n",
      "46000\n",
      "47000\n",
      "48000\n",
      "49000\n",
      "50000\n",
      "51000\n",
      "52000\n",
      "53000\n",
      "54000\n",
      "55000\n",
      "56000\n",
      "57000\n",
      "58000\n",
      "59000\n",
      "60000\n",
      "61000\n",
      "62000\n",
      "63000\n",
      "64000\n",
      "65000\n",
      "66000\n",
      "67000\n",
      "68000\n",
      "69000\n",
      "70000\n",
      "71000\n",
      "72000\n",
      "73000\n",
      "74000\n",
      "75000\n",
      "76000\n",
      "77000\n",
      "78000\n",
      "79000\n",
      "80000\n",
      "81000\n",
      "82000\n",
      "83000\n",
      "84000\n",
      "85000\n",
      "86000\n",
      "87000\n",
      "88000\n",
      "89000\n",
      "90000\n",
      "91000\n",
      "92000\n",
      "93000\n",
      "94000\n",
      "95000\n",
      "96000\n",
      "97000\n",
      "98000\n",
      "99000\n"
     ]
    },
    {
     "data": {
      "text/plain": [
       "<matplotlib.collections.PathCollection at 0x7fd4511ec6a0>"
      ]
     },
     "execution_count": 80,
     "metadata": {},
     "output_type": "execute_result"
    },
    {
     "data": {
      "image/png": "[encoded data removed]",
      "text/plain": [
       "<Figure size 432x288 with 1 Axes>"
      ]
     },
     "metadata": {
      "needs_background": "light"
     },
     "output_type": "display_data"
    }
   ],
   "source": [
    "# carefully just one prediction\n",
    "import pandas as pd\n",
    "import matplotlib.pyplot as plt\n",
    "\n",
    "col_names = ['averageRating', 'isAdult', 'startYear', 'endYear', 'numVotes', 'Crime', 'Romance', 'Thriller', 'Adventure', 'Drama', 'War', 'Documentary', 'Reality-TV', 'Family', 'Fantasy', 'Game-Show', 'Adult', 'History', 'Mystery', 'Musical', 'Animation', 'Music', 'Film-Noir', 'shortGenre', 'Horror', 'Western', 'Biography', 'Comedy', 'Action', 'Sport', 'Talk-Show', 'Sci-Fi', 'News', 'movie', 'short', 'tvEpisode', 'tvMiniSeries', 'tvMovie', 'tvSeries', 'tvShort', 'tvSpecial', 'video', 'videoGame', 'distinct languages', 'distinct regions']\n",
    "test = pd.read_csv(f\"{s3_path}{test_source_path}/{test_source_name}\", header=0, index_col=False, names=col_names)\n",
    "prediction=[]\n",
    "for i in range(test.shape[0]):\n",
    "    prediction.append(xgb_predictor.predict(test.iloc[i, 1:]))\n",
    "    if i % 1000 == 0:\n",
    "        print(i)\n",
    "    #     print(prediction)\n",
    "    #     print(test.iloc[i,0])\n",
    "#print(prediction) \n",
    "\n",
    "plt.scatter(test.iloc[:,0], prediction)\n"
   ]
  },
  {
   "cell_type": "code",
   "execution_count": 88,
   "metadata": {},
   "outputs": [
    {
     "name": "stdout",
     "output_type": "stream",
     "text": [
      "11-18-2020-14-56-36\n"
     ]
    },
    {
     "data": {
      "image/png": "[encoded data removed]",
      "text/plain": [
       "<Figure size 720x720 with 1 Axes>"
      ]
     },
     "metadata": {
      "needs_background": "light"
     },
     "output_type": "display_data"
    }
   ],
   "source": [
    "from datetime import datetime\n",
    "\n",
    "now = datetime.now() # current date and time\n",
    "time = now.strftime(\"%m-%d-%Y-%H-%M-%S\")\n",
    "print(time)\n",
    "\n",
    "\n",
    "\n",
    "fig = plt.subplots(figsize=(10,10))\n",
    "plt.scatter(test.iloc[:,0], prediction,marker='.')\n",
    "plt.title('Second Prediction (first train on train set)', fontsize=20)\n",
    "plt.xlabel('original value')\n",
    "plt.ylabel('predicted value')\n",
    "plt.xlim([0,10])\n",
    "plt.ylim([0,10])\n",
    "plt.plot([0,10],[0,10], c='red')\n",
    "\n",
    "#plt.show()\n",
    "filename='Prediction-'+time\n",
    "plt.savefig(filename, dpi=None, facecolor='w', edgecolor='w',\n",
    "        orientation='portrait')\n"
   ]
  },
  {
   "cell_type": "code",
   "execution_count": 86,
   "metadata": {},
   "outputs": [
    {
     "name": "stdout",
     "output_type": "stream",
     "text": [
      "11-18-2020-14-55-10\n"
     ]
    }
   ],
   "source": []
  }
 ],
 "metadata": {
  "kernelspec": {
   "display_name": "conda_python3",
   "language": "python",
   "name": "conda_python3"
  },
  "language_info": {
   "codemirror_mode": {
    "name": "ipython",
    "version": 3
   },
   "file_extension": ".py",
   "mimetype": "text/x-python",
   "name": "python",
   "nbconvert_exporter": "python",
   "pygments_lexer": "ipython3",
   "version": "3.6.10"
  }
 },
 "nbformat": 4,
 "nbformat_minor": 4
}
