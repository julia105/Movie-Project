{
 "cells": [
  {
   "cell_type": "markdown",
   "metadata": {},
   "source": [
    "# Initialize"
   ]
  },
  {
   "cell_type": "markdown",
   "metadata": {},
   "source": [
    "## ASW session"
   ]
  },
  {
   "cell_type": "code",
   "execution_count": 98,
   "metadata": {},
   "outputs": [],
   "source": [
    "import boto3\n",
    "\n",
    "session = boto3.Session()\n",
    "s3 = session.resource('s3')"
   ]
  },
  {
   "cell_type": "markdown",
   "metadata": {},
   "source": [
    "## SageMaker Session"
   ]
  },
  {
   "cell_type": "code",
   "execution_count": 99,
   "metadata": {},
   "outputs": [],
   "source": [
    "import sagemaker\n",
    "\n",
    "sage_session = sagemaker.Session()"
   ]
  },
  {
   "cell_type": "markdown",
   "metadata": {},
   "source": [
    "# Define Globals"
   ]
  },
  {
   "cell_type": "code",
   "execution_count": 100,
   "metadata": {},
   "outputs": [],
   "source": [
    "# bucket name\n",
    "bucket = 'aida-project'\n",
    "\n",
    "# path for s3_input\n",
    "s3_path = f\"s3://{bucket}/\"\n",
    "\n",
    "## define source files\n",
    "# TRAIN source file\n",
    "train_source_path = 'team_remote'\n",
    "train_source_name = 'title-train-princ4.csv'\n",
    "#train_source_name = 'title-valid.csv'       # for testing; remove later\n",
    "\n",
    "\n",
    "# VALID source file\n",
    "valid_source_path = 'team_remote'\n",
    "valid_source_name = 'title-valid-princ4.csv'\n",
    "#valid_source_name = 'title-test.csv'       # for testing; remove later\n",
    "\n",
    "# TEST source file\n",
    "test_source_path = 'team_remote'\n",
    "test_source_name = 'title-test-princ4.csv'\n",
    "\n",
    "# output for result\n",
    "output_path ='team_remote'\n",
    "output_location = f'{s3_path}{output_path}/output'"
   ]
  },
  {
   "cell_type": "code",
   "execution_count": 101,
   "metadata": {},
   "outputs": [
    {
     "name": "stdout",
     "output_type": "stream",
     "text": [
      "s3://aida-project/team_remote/output\n"
     ]
    }
   ],
   "source": [
    "print(output_location)"
   ]
  },
  {
   "cell_type": "code",
   "execution_count": 102,
   "metadata": {},
   "outputs": [
    {
     "name": "stderr",
     "output_type": "stream",
     "text": [
      "'s3_input' class will be renamed to 'TrainingInput' in SageMaker Python SDK v2.\n",
      "'s3_input' class will be renamed to 'TrainingInput' in SageMaker Python SDK v2.\n",
      "'s3_input' class will be renamed to 'TrainingInput' in SageMaker Python SDK v2.\n"
     ]
    }
   ],
   "source": [
    "# Create pointers to the S3 train and test datasets\n",
    "\n",
    "from sagemaker import s3_input\n",
    "\n",
    "# print(f\"{s3_path}{train_source_path}/{train_source_name}\")\n",
    "# print(f\"{s3_path}{valid_source_path}/{valid_source_name}\")\n",
    "# print(f\"{s3_path}{test_source_path}/{test_source_name}\")\n",
    "s3_input_train = sagemaker.session.s3_input(s3_data=f\"{s3_path}{train_source_path}/{train_source_name}\", content_type=\"text/csv\")\n",
    "s3_input_valid = sagemaker.session.s3_input(s3_data=f\"{s3_path}{valid_source_path}/{valid_source_name}\", content_type=\"text/csv\")\n",
    "s3_input_test = sagemaker.session.s3_input(s3_data=f\"{s3_path}{test_source_path}/{test_source_name}\", content_type=\"text/csv\")"
   ]
  },
  {
   "cell_type": "code",
   "execution_count": 103,
   "metadata": {},
   "outputs": [],
   "source": [
    "role = sagemaker.get_execution_role()"
   ]
  },
  {
   "cell_type": "markdown",
   "metadata": {},
   "source": [
    "# Define Model"
   ]
  },
  {
   "cell_type": "code",
   "execution_count": 104,
   "metadata": {},
   "outputs": [],
   "source": [
    "# finde pre-defined models here:\n",
    "# https://docs.aws.amazon.com/sagemaker/latest/dg/sagemaker-algo-docker-registry-paths.html\n",
    "\n",
    "# Create an XGBoost Estimator\n",
    "\n",
    "# estimator call\n",
    "# <ecr_path>/sagemaker-xgboost:1.2-1\n",
    "    \n",
    "ecr_path = \"492215442770.dkr.ecr.eu-central-1.amazonaws.com\"\n",
    "xgboost_estimator = f\"{ecr_path}/sagemaker-xgboost:1.0-1-cpu-py3\"\n",
    "\n",
    "# ecr_path = \"664544806723.dkr.ecr.eu-central-1.amazonaws.com\"\n",
    "# knn_estimator = f\"{ecr_path}/knn:latest\"\n"
   ]
  },
  {
   "cell_type": "code",
   "execution_count": 105,
   "metadata": {},
   "outputs": [
    {
     "name": "stderr",
     "output_type": "stream",
     "text": [
      "Parameter image_name will be renamed to image_uri in SageMaker Python SDK v2.\n"
     ]
    }
   ],
   "source": [
    "xgboost = sagemaker.estimator.Estimator(xgboost_estimator,\n",
    "                              role,\n",
    "                              train_instance_count=1,\n",
    "                              train_instance_type=\"ml.m5.4xlarge\",\n",
    "                              output_path=output_location,\n",
    "                              sagemaker_session=sage_session,\n",
    "                              base_job_name=\"JPC-xgboost\")"
   ]
  },
  {
   "cell_type": "code",
   "execution_count": 106,
   "metadata": {},
   "outputs": [],
   "source": [
    "# Select the your specific hyperparameters (Optional)\n",
    "# https://docs.aws.amazon.com/sagemaker/latest/dg/xgboost_hyperparameters.html\n",
    "# https://github.com/dmlc/xgboost/blob/master/doc/parameter.rst#learning-task-parameters \n",
    "\n",
    "xgboost.set_hyperparameters(\n",
    "    eta=.35,\n",
    "    num_round=50,                     # required parameter!\n",
    "    objective = 'reg:linear',\n",
    "    )"
   ]
  },
  {
   "cell_type": "code",
   "execution_count": 107,
   "metadata": {},
   "outputs": [
    {
     "name": "stderr",
     "output_type": "stream",
     "text": [
      "Parameter image_name will be renamed to image_uri in SageMaker Python SDK v2.\n"
     ]
    }
   ],
   "source": [
    "from sagemaker.debugger import rule_configs, Rule, DebuggerHookConfig, CollectionConfig\n",
    "from sagemaker.estimator import Estimator \n",
    "save_interval = 10\n",
    "xgboost_debugger = Estimator( role=role, \n",
    "                             base_job_name=\"JPC-xgboost-debug\", \n",
    "                             train_instance_count=1, \n",
    "                             train_instance_type='ml.m5.4xlarge', \n",
    "                             image_name=xgboost_estimator, \n",
    "                             #hyperparameters=hyperparameters, \n",
    "                             train_max_run=1800, \n",
    "                             debugger_hook_config=DebuggerHookConfig( s3_output_path=output_location, # Required \n",
    "                             collection_configs=[ CollectionConfig( name=\"feature_importance\", parameters={ \"save_interval\": str(save_interval) } ), ], ), \n",
    "                              rules=[ Rule.sagemaker( rule_configs.loss_not_decreasing(), \n",
    "                                                     rule_parameters={ \"collection_names\": \"metrics\", \"num_steps\": str(save_interval * 2), }, ), ]\n",
    ")\n",
    "xgboost_debugger.set_hyperparameters(\n",
    "    eta=.35,\n",
    "    num_round=52,                     # required parameter!\n",
    "    objective = 'reg:linear',\n",
    "    )"
   ]
  },
  {
   "cell_type": "markdown",
   "metadata": {},
   "source": [
    "## Fit Model"
   ]
  },
  {
   "cell_type": "code",
   "execution_count": 108,
   "metadata": {},
   "outputs": [
    {
     "name": "stdout",
     "output_type": "stream",
     "text": [
      "2020-11-19 17:00:18 Starting - Starting the training job...\n",
      "2020-11-19 17:00:20 Starting - Launching requested ML instances\n",
      "********* Debugger Rule Status *********\n",
      "*\n",
      "*  LossNotDecreasing: InProgress        \n",
      "*\n",
      "****************************************\n",
      "......\n",
      "2020-11-19 17:01:46 Starting - Preparing the instances for training...\n",
      "2020-11-19 17:02:06 Downloading - Downloading input data...\n",
      "2020-11-19 17:02:47 Training - Training image download completed. Training in progress.\u001b[34mINFO:sagemaker-containers:Imported framework sagemaker_xgboost_container.training\u001b[0m\n",
      "\u001b[34mINFO:sagemaker-containers:Failed to parse hyperparameter objective value reg:linear to Json.\u001b[0m\n",
      "\u001b[34mReturning the value itself\u001b[0m\n",
      "\u001b[34mINFO:sagemaker-containers:No GPUs detected (normal if no gpus installed)\u001b[0m\n",
      "\u001b[34mINFO:sagemaker_xgboost_container.training:Running XGBoost Sagemaker in algorithm mode\u001b[0m\n",
      "\u001b[34mINFO:root:Determined delimiter of CSV input is ','\u001b[0m\n",
      "\u001b[34mINFO:root:Determined delimiter of CSV input is ','\u001b[0m\n",
      "\u001b[34mINFO:root:Determined delimiter of CSV input is ','\u001b[0m\n",
      "\u001b[34m[17:02:42] 804606x74 matrix with 59540844 entries loaded from /opt/ml/input/data/train?format=csv&label_column=0&delimiter=,\u001b[0m\n",
      "\u001b[34mINFO:root:Determined delimiter of CSV input is ','\u001b[0m\n",
      "\u001b[34m[17:02:42] 89652x74 matrix with 6634248 entries loaded from /opt/ml/input/data/validation?format=csv&label_column=0&delimiter=,\u001b[0m\n",
      "\u001b[34mINFO:root:Single node training.\u001b[0m\n",
      "\u001b[34m[2020-11-19 17:02:42.460 ip-10-0-152-100.eu-central-1.compute.internal:1 INFO json_config.py:90] Creating hook from json_config at /opt/ml/input/config/debughookconfig.json.\u001b[0m\n",
      "\u001b[34m[2020-11-19 17:02:42.461 ip-10-0-152-100.eu-central-1.compute.internal:1 INFO hook.py:151] tensorboard_dir has not been set for the hook. SMDebug will not be exporting tensorboard summaries.\u001b[0m\n",
      "\u001b[34m[2020-11-19 17:02:42.461 ip-10-0-152-100.eu-central-1.compute.internal:1 INFO hook.py:196] Saving to /opt/ml/output/tensors\u001b[0m\n",
      "\u001b[34mINFO:root:Debug hook created from config\u001b[0m\n",
      "\u001b[34mINFO:root:Train matrix has 804606 rows\u001b[0m\n",
      "\u001b[34mINFO:root:Validation matrix has 89652 rows\u001b[0m\n",
      "\u001b[34m[17:02:42] WARNING: /workspace/src/objective/regression_obj.cu:167: reg:linear is now deprecated in favor of reg:squarederror.\u001b[0m\n",
      "\u001b[34m[17:02:42] WARNING: /workspace/src/learner.cc:328: \u001b[0m\n",
      "\u001b[34mParameters: { num_round } might not be used.\n",
      "\n",
      "  This may not be accurate due to some parameters are only used in language bindings but\n",
      "  passed down to XGBoost core.  Or some parameters are not used but slip through this\n",
      "  verification. Please open an issue if you find above cases.\n",
      "\n",
      "\u001b[0m\n",
      "\u001b[34m[0]#011train-rmse:4.35368#011validation-rmse:4.34703\u001b[0m\n",
      "\u001b[34m[2020-11-19 17:02:43.377 ip-10-0-152-100.eu-central-1.compute.internal:1 INFO hook.py:325] Monitoring the collections: losses, metrics, feature_importance\u001b[0m\n",
      "\u001b[34m[1]#011train-rmse:2.98033#011validation-rmse:2.97442\u001b[0m\n",
      "\u001b[34m[2]#011train-rmse:2.14881#011validation-rmse:2.14308\u001b[0m\n",
      "\u001b[34m[3]#011train-rmse:1.67363#011validation-rmse:1.66778\u001b[0m\n",
      "\u001b[34m[4]#011train-rmse:1.42487#011validation-rmse:1.41923\u001b[0m\n",
      "\u001b[34m[5]#011train-rmse:1.30091#011validation-rmse:1.29557\u001b[0m\n",
      "\u001b[34m[6]#011train-rmse:1.24222#011validation-rmse:1.23683\u001b[0m\n",
      "\u001b[34m[7]#011train-rmse:1.21689#011validation-rmse:1.21172\u001b[0m\n",
      "\u001b[34m[8]#011train-rmse:1.20425#011validation-rmse:1.19913\u001b[0m\n",
      "\u001b[34m[9]#011train-rmse:1.19797#011validation-rmse:1.19310\u001b[0m\n",
      "\u001b[34m[10]#011train-rmse:1.19359#011validation-rmse:1.18872\u001b[0m\n",
      "\u001b[34m[11]#011train-rmse:1.19005#011validation-rmse:1.18543\u001b[0m\n",
      "\u001b[34m[12]#011train-rmse:1.18769#011validation-rmse:1.18328\u001b[0m\n",
      "\u001b[34m[13]#011train-rmse:1.18661#011validation-rmse:1.18235\u001b[0m\n",
      "\u001b[34m[14]#011train-rmse:1.18539#011validation-rmse:1.18127\u001b[0m\n",
      "\u001b[34m[15]#011train-rmse:1.18316#011validation-rmse:1.17928\u001b[0m\n",
      "\u001b[34m[16]#011train-rmse:1.18048#011validation-rmse:1.17670\u001b[0m\n",
      "\u001b[34m[17]#011train-rmse:1.17890#011validation-rmse:1.17519\u001b[0m\n",
      "\u001b[34m[18]#011train-rmse:1.17729#011validation-rmse:1.17367\u001b[0m\n",
      "\u001b[34m[19]#011train-rmse:1.17600#011validation-rmse:1.17253\u001b[0m\n",
      "\u001b[34m[20]#011train-rmse:1.17535#011validation-rmse:1.17195\u001b[0m\n",
      "\u001b[34m[21]#011train-rmse:1.17437#011validation-rmse:1.17113\u001b[0m\n",
      "\u001b[34m[22]#011train-rmse:1.17315#011validation-rmse:1.17000\u001b[0m\n",
      "\u001b[34m[23]#011train-rmse:1.17211#011validation-rmse:1.16918\u001b[0m\n",
      "\u001b[34m[24]#011train-rmse:1.17123#011validation-rmse:1.16841\u001b[0m\n",
      "\u001b[34m[25]#011train-rmse:1.16994#011validation-rmse:1.16708\u001b[0m\n",
      "\u001b[34m[26]#011train-rmse:1.16962#011validation-rmse:1.16683\u001b[0m\n",
      "\u001b[34m[27]#011train-rmse:1.16846#011validation-rmse:1.16566\u001b[0m\n",
      "\u001b[34m[28]#011train-rmse:1.16606#011validation-rmse:1.16338\u001b[0m\n",
      "\u001b[34m[29]#011train-rmse:1.16502#011validation-rmse:1.16238\u001b[0m\n",
      "\u001b[34m[30]#011train-rmse:1.16408#011validation-rmse:1.16144\u001b[0m\n",
      "\u001b[34m[31]#011train-rmse:1.16378#011validation-rmse:1.16118\u001b[0m\n",
      "\u001b[34m[32]#011train-rmse:1.16235#011validation-rmse:1.15978\u001b[0m\n",
      "\u001b[34m[33]#011train-rmse:1.16205#011validation-rmse:1.15955\u001b[0m\n",
      "\u001b[34m[34]#011train-rmse:1.16127#011validation-rmse:1.15885\u001b[0m\n",
      "\u001b[34m[35]#011train-rmse:1.16056#011validation-rmse:1.15818\u001b[0m\n",
      "\u001b[34m[36]#011train-rmse:1.15922#011validation-rmse:1.15668\u001b[0m\n",
      "\u001b[34m[37]#011train-rmse:1.15873#011validation-rmse:1.15622\u001b[0m\n",
      "\u001b[34m[38]#011train-rmse:1.15806#011validation-rmse:1.15574\u001b[0m\n",
      "\u001b[34m[39]#011train-rmse:1.15704#011validation-rmse:1.15502\u001b[0m\n",
      "\u001b[34m[40]#011train-rmse:1.15696#011validation-rmse:1.15500\u001b[0m\n",
      "\u001b[34m[41]#011train-rmse:1.15672#011validation-rmse:1.15483\u001b[0m\n",
      "\u001b[34m[42]#011train-rmse:1.15664#011validation-rmse:1.15478\u001b[0m\n",
      "\u001b[34m[43]#011train-rmse:1.15606#011validation-rmse:1.15445\u001b[0m\n",
      "\u001b[34m[44]#011train-rmse:1.15465#011validation-rmse:1.15329\u001b[0m\n",
      "\u001b[34m[45]#011train-rmse:1.15345#011validation-rmse:1.15226\u001b[0m\n",
      "\u001b[34m[46]#011train-rmse:1.15267#011validation-rmse:1.15163\u001b[0m\n",
      "\u001b[34m[47]#011train-rmse:1.15265#011validation-rmse:1.15160\u001b[0m\n",
      "\u001b[34m[48]#011train-rmse:1.15256#011validation-rmse:1.15157\u001b[0m\n",
      "\u001b[34m[49]#011train-rmse:1.15213#011validation-rmse:1.15133\u001b[0m\n",
      "\u001b[34m[50]#011train-rmse:1.15208#011validation-rmse:1.15131\u001b[0m\n",
      "\u001b[34m[51]#011train-rmse:1.15207#011validation-rmse:1.15131\u001b[0m\n",
      "\n",
      "2020-11-19 17:03:12 Uploading - Uploading generated training model\n",
      "2020-11-19 17:03:12 Completed - Training job completed\n",
      "Training seconds: 68\n",
      "Billable seconds: 68\n"
     ]
    }
   ],
   "source": [
    "xgboost_debugger.fit({\"train\": s3_input_train, \"validation\": s3_input_valid}, wait=True)"
   ]
  },
  {
   "cell_type": "code",
   "execution_count": 109,
   "metadata": {},
   "outputs": [
    {
     "name": "stdout",
     "output_type": "stream",
     "text": [
      "[2020-11-19 17:10:28.356 ip-172-16-29-248:27936 INFO s3_trial.py:42] Loading trial debug-output at path s3://aida-project/team_remote/output/JPC-xgboost-debug-2020-11-19-17-00-18-229/debug-output\n"
     ]
    }
   ],
   "source": [
    "#!pip install smdebug\n",
    "from smdebug.trials import create_trial\n",
    "s3_output_path = xgboost_debugger.latest_job_debugger_artifacts_path()\n",
    "trial = create_trial(s3_output_path)"
   ]
  },
  {
   "cell_type": "code",
   "execution_count": 110,
   "metadata": {},
   "outputs": [
    {
     "name": "stdout",
     "output_type": "stream",
     "text": [
      "[2020-11-19 17:10:29.912 ip-172-16-29-248:27936 INFO trial.py:198] Training has ended, will refresh one final time in 1 sec.\n",
      "[2020-11-19 17:10:30.984 ip-172-16-29-248:27936 INFO trial.py:210] Loaded all steps\n"
     ]
    },
    {
     "data": {
      "text/plain": [
       "<bound method Trial.tensor of <smdebug.trials.s3_trial.S3Trial object at 0x7fbfc001c4a8>:(\n",
       "    name=debug-output,\n",
       "    path=s3://aida-project/team_remote/output/JPC-xgboost-debug-2020-11-19-17-00-18-229/debug-output/,\n",
       "    steps=[0, 10, 20, 30, 40, 50],\n",
       "    collections=['hyperparameters', 'metrics', 'predictions', 'labels', 'feature_importance', 'average_shap', 'full_shap', 'trees', 'default', 'losses'],\n",
       "    tensor_names=['feature_importance/cover/f0', 'feature_importance/cover/f1', 'feature_importance/cover/f10', 'feature_importance/cover/f11', 'feature_importance/cover/f12', 'feature_importance/cover/f13', 'feature_importance/cover/f14', 'feature_importance/cover/f15', 'feature_importance/cover/f16', 'feature_importance/cover/f17', 'feature_importance/cover/f18', 'feature_importance/cover/f19', 'feature_importance/cover/f2', 'feature_importance/cover/f20', 'feature_importance/cover/f22', 'feature_importance/cover/f23', 'feature_importance/cover/f24', 'feature_importance/cover/f25', 'feature_importance/cover/f26', 'feature_importance/cover/f27', 'feature_importance/cover/f28', 'feature_importance/cover/f29', 'feature_importance/cover/f3', 'feature_importance/cover/f30', 'feature_importance/cover/f31', 'feature_importance/cover/f32', 'feature_importance/cover/f33', 'feature_importance/cover/f34', 'feature_importance/cover/f35', 'feature_importance/cover/f36', 'feature_importance/cover/f37', 'feature_importance/cover/f38', 'feature_importance/cover/f39', 'feature_importance/cover/f4', 'feature_importance/cover/f40', 'feature_importance/cover/f41', 'feature_importance/cover/f42', 'feature_importance/cover/f44', 'feature_importance/cover/f46', 'feature_importance/cover/f5', 'feature_importance/cover/f50', 'feature_importance/cover/f51', 'feature_importance/cover/f59', 'feature_importance/cover/f6', 'feature_importance/cover/f67', 'feature_importance/cover/f68', 'feature_importance/cover/f7', 'feature_importance/cover/f72', 'feature_importance/cover/f73', 'feature_importance/cover/f8', 'feature_importance/cover/f9', 'feature_importance/gain/f0', 'feature_importance/gain/f1', 'feature_importance/gain/f10', 'feature_importance/gain/f11', 'feature_importance/gain/f12', 'feature_importance/gain/f13', 'feature_importance/gain/f14', 'feature_importance/gain/f15', 'feature_importance/gain/f16', 'feature_importance/gain/f17', 'feature_importance/gain/f18', 'feature_importance/gain/f19', 'feature_importance/gain/f2', 'feature_importance/gain/f20', 'feature_importance/gain/f22', 'feature_importance/gain/f23', 'feature_importance/gain/f24', 'feature_importance/gain/f25', 'feature_importance/gain/f26', 'feature_importance/gain/f27', 'feature_importance/gain/f28', 'feature_importance/gain/f29', 'feature_importance/gain/f3', 'feature_importance/gain/f30', 'feature_importance/gain/f31', 'feature_importance/gain/f32', 'feature_importance/gain/f33', 'feature_importance/gain/f34', 'feature_importance/gain/f35', 'feature_importance/gain/f36', 'feature_importance/gain/f37', 'feature_importance/gain/f38', 'feature_importance/gain/f39', 'feature_importance/gain/f4', 'feature_importance/gain/f40', 'feature_importance/gain/f41', 'feature_importance/gain/f42', 'feature_importance/gain/f44', 'feature_importance/gain/f46', 'feature_importance/gain/f5', 'feature_importance/gain/f50', 'feature_importance/gain/f51', 'feature_importance/gain/f59', 'feature_importance/gain/f6', 'feature_importance/gain/f67', 'feature_importance/gain/f68', 'feature_importance/gain/f7', 'feature_importance/gain/f72', 'feature_importance/gain/f73', 'feature_importance/gain/f8', 'feature_importance/gain/f9', 'feature_importance/total_cover/f0', 'feature_importance/total_cover/f1', 'feature_importance/total_cover/f10', 'feature_importance/total_cover/f11', 'feature_importance/total_cover/f12', 'feature_importance/total_cover/f13', 'feature_importance/total_cover/f14', 'feature_importance/total_cover/f15', 'feature_importance/total_cover/f16', 'feature_importance/total_cover/f17', 'feature_importance/total_cover/f18', 'feature_importance/total_cover/f19', 'feature_importance/total_cover/f2', 'feature_importance/total_cover/f20', 'feature_importance/total_cover/f22', 'feature_importance/total_cover/f23', 'feature_importance/total_cover/f24', 'feature_importance/total_cover/f25', 'feature_importance/total_cover/f26', 'feature_importance/total_cover/f27', 'feature_importance/total_cover/f28', 'feature_importance/total_cover/f29', 'feature_importance/total_cover/f3', 'feature_importance/total_cover/f30', 'feature_importance/total_cover/f31', 'feature_importance/total_cover/f32', 'feature_importance/total_cover/f33', 'feature_importance/total_cover/f34', 'feature_importance/total_cover/f35', 'feature_importance/total_cover/f36', 'feature_importance/total_cover/f37', 'feature_importance/total_cover/f38', 'feature_importance/total_cover/f39', 'feature_importance/total_cover/f4', 'feature_importance/total_cover/f40', 'feature_importance/total_cover/f41', 'feature_importance/total_cover/f42', 'feature_importance/total_cover/f44', 'feature_importance/total_cover/f46', 'feature_importance/total_cover/f5', 'feature_importance/total_cover/f50', 'feature_importance/total_cover/f51', 'feature_importance/total_cover/f59', 'feature_importance/total_cover/f6', 'feature_importance/total_cover/f67', 'feature_importance/total_cover/f68', 'feature_importance/total_cover/f7', 'feature_importance/total_cover/f72', 'feature_importance/total_cover/f73', 'feature_importance/total_cover/f8', 'feature_importance/total_cover/f9', 'feature_importance/total_gain/f0', 'feature_importance/total_gain/f1', 'feature_importance/total_gain/f10', 'feature_importance/total_gain/f11', 'feature_importance/total_gain/f12', 'feature_importance/total_gain/f13', 'feature_importance/total_gain/f14', 'feature_importance/total_gain/f15', 'feature_importance/total_gain/f16', 'feature_importance/total_gain/f17', 'feature_importance/total_gain/f18', 'feature_importance/total_gain/f19', 'feature_importance/total_gain/f2', 'feature_importance/total_gain/f20', 'feature_importance/total_gain/f22', 'feature_importance/total_gain/f23', 'feature_importance/total_gain/f24', 'feature_importance/total_gain/f25', 'feature_importance/total_gain/f26', 'feature_importance/total_gain/f27', 'feature_importance/total_gain/f28', 'feature_importance/total_gain/f29', 'feature_importance/total_gain/f3', 'feature_importance/total_gain/f30', 'feature_importance/total_gain/f31', 'feature_importance/total_gain/f32', 'feature_importance/total_gain/f33', 'feature_importance/total_gain/f34', 'feature_importance/total_gain/f35', 'feature_importance/total_gain/f36', 'feature_importance/total_gain/f37', 'feature_importance/total_gain/f38', 'feature_importance/total_gain/f39', 'feature_importance/total_gain/f4', 'feature_importance/total_gain/f40', 'feature_importance/total_gain/f41', 'feature_importance/total_gain/f42', 'feature_importance/total_gain/f44', 'feature_importance/total_gain/f46', 'feature_importance/total_gain/f5', 'feature_importance/total_gain/f50', 'feature_importance/total_gain/f51', 'feature_importance/total_gain/f59', 'feature_importance/total_gain/f6', 'feature_importance/total_gain/f67', 'feature_importance/total_gain/f68', 'feature_importance/total_gain/f7', 'feature_importance/total_gain/f72', 'feature_importance/total_gain/f73', 'feature_importance/total_gain/f8', 'feature_importance/total_gain/f9', 'feature_importance/weight/f0', 'feature_importance/weight/f1', 'feature_importance/weight/f10', 'feature_importance/weight/f11', 'feature_importance/weight/f12', 'feature_importance/weight/f13', 'feature_importance/weight/f14', 'feature_importance/weight/f15', 'feature_importance/weight/f16', 'feature_importance/weight/f17', 'feature_importance/weight/f18', 'feature_importance/weight/f19', 'feature_importance/weight/f2', 'feature_importance/weight/f20', 'feature_importance/weight/f22', 'feature_importance/weight/f23', 'feature_importance/weight/f24', 'feature_importance/weight/f25', 'feature_importance/weight/f26', 'feature_importance/weight/f27', 'feature_importance/weight/f28', 'feature_importance/weight/f29', 'feature_importance/weight/f3', 'feature_importance/weight/f30', 'feature_importance/weight/f31', 'feature_importance/weight/f32', 'feature_importance/weight/f33', 'feature_importance/weight/f34', 'feature_importance/weight/f35', 'feature_importance/weight/f36', 'feature_importance/weight/f37', 'feature_importance/weight/f38', 'feature_importance/weight/f39', 'feature_importance/weight/f4', 'feature_importance/weight/f40', 'feature_importance/weight/f41', 'feature_importance/weight/f42', 'feature_importance/weight/f44', 'feature_importance/weight/f46', 'feature_importance/weight/f5', 'feature_importance/weight/f50', 'feature_importance/weight/f51', 'feature_importance/weight/f59', 'feature_importance/weight/f6', 'feature_importance/weight/f67', 'feature_importance/weight/f68', 'feature_importance/weight/f7', 'feature_importance/weight/f72', 'feature_importance/weight/f73', 'feature_importance/weight/f8', 'feature_importance/weight/f9', 'train-rmse', 'validation-rmse'],\n",
       ")>"
      ]
     },
     "execution_count": 110,
     "metadata": {},
     "output_type": "execute_result"
    }
   ],
   "source": [
    "trial.tensor"
   ]
  },
  {
   "cell_type": "code",
   "execution_count": 111,
   "metadata": {},
   "outputs": [
    {
     "data": {
      "text/plain": [
       "['feature_importance/cover/f0',\n",
       " 'feature_importance/cover/f1',\n",
       " 'feature_importance/cover/f10',\n",
       " 'feature_importance/cover/f11',\n",
       " 'feature_importance/cover/f12',\n",
       " 'feature_importance/cover/f13',\n",
       " 'feature_importance/cover/f14',\n",
       " 'feature_importance/cover/f15',\n",
       " 'feature_importance/cover/f16',\n",
       " 'feature_importance/cover/f17',\n",
       " 'feature_importance/cover/f18',\n",
       " 'feature_importance/cover/f19',\n",
       " 'feature_importance/cover/f2',\n",
       " 'feature_importance/cover/f20',\n",
       " 'feature_importance/cover/f22',\n",
       " 'feature_importance/cover/f23',\n",
       " 'feature_importance/cover/f24',\n",
       " 'feature_importance/cover/f25',\n",
       " 'feature_importance/cover/f26',\n",
       " 'feature_importance/cover/f27',\n",
       " 'feature_importance/cover/f28',\n",
       " 'feature_importance/cover/f29',\n",
       " 'feature_importance/cover/f3',\n",
       " 'feature_importance/cover/f30',\n",
       " 'feature_importance/cover/f31',\n",
       " 'feature_importance/cover/f32',\n",
       " 'feature_importance/cover/f33',\n",
       " 'feature_importance/cover/f34',\n",
       " 'feature_importance/cover/f35',\n",
       " 'feature_importance/cover/f36',\n",
       " 'feature_importance/cover/f37',\n",
       " 'feature_importance/cover/f38',\n",
       " 'feature_importance/cover/f39',\n",
       " 'feature_importance/cover/f4',\n",
       " 'feature_importance/cover/f40',\n",
       " 'feature_importance/cover/f41',\n",
       " 'feature_importance/cover/f42',\n",
       " 'feature_importance/cover/f44',\n",
       " 'feature_importance/cover/f46',\n",
       " 'feature_importance/cover/f5',\n",
       " 'feature_importance/cover/f50',\n",
       " 'feature_importance/cover/f51',\n",
       " 'feature_importance/cover/f59',\n",
       " 'feature_importance/cover/f6',\n",
       " 'feature_importance/cover/f67',\n",
       " 'feature_importance/cover/f68',\n",
       " 'feature_importance/cover/f7',\n",
       " 'feature_importance/cover/f72',\n",
       " 'feature_importance/cover/f73',\n",
       " 'feature_importance/cover/f8',\n",
       " 'feature_importance/cover/f9',\n",
       " 'feature_importance/gain/f0',\n",
       " 'feature_importance/gain/f1',\n",
       " 'feature_importance/gain/f10',\n",
       " 'feature_importance/gain/f11',\n",
       " 'feature_importance/gain/f12',\n",
       " 'feature_importance/gain/f13',\n",
       " 'feature_importance/gain/f14',\n",
       " 'feature_importance/gain/f15',\n",
       " 'feature_importance/gain/f16',\n",
       " 'feature_importance/gain/f17',\n",
       " 'feature_importance/gain/f18',\n",
       " 'feature_importance/gain/f19',\n",
       " 'feature_importance/gain/f2',\n",
       " 'feature_importance/gain/f20',\n",
       " 'feature_importance/gain/f22',\n",
       " 'feature_importance/gain/f23',\n",
       " 'feature_importance/gain/f24',\n",
       " 'feature_importance/gain/f25',\n",
       " 'feature_importance/gain/f26',\n",
       " 'feature_importance/gain/f27',\n",
       " 'feature_importance/gain/f28',\n",
       " 'feature_importance/gain/f29',\n",
       " 'feature_importance/gain/f3',\n",
       " 'feature_importance/gain/f30',\n",
       " 'feature_importance/gain/f31',\n",
       " 'feature_importance/gain/f32',\n",
       " 'feature_importance/gain/f33',\n",
       " 'feature_importance/gain/f34',\n",
       " 'feature_importance/gain/f35',\n",
       " 'feature_importance/gain/f36',\n",
       " 'feature_importance/gain/f37',\n",
       " 'feature_importance/gain/f38',\n",
       " 'feature_importance/gain/f39',\n",
       " 'feature_importance/gain/f4',\n",
       " 'feature_importance/gain/f40',\n",
       " 'feature_importance/gain/f41',\n",
       " 'feature_importance/gain/f42',\n",
       " 'feature_importance/gain/f44',\n",
       " 'feature_importance/gain/f46',\n",
       " 'feature_importance/gain/f5',\n",
       " 'feature_importance/gain/f50',\n",
       " 'feature_importance/gain/f51',\n",
       " 'feature_importance/gain/f59',\n",
       " 'feature_importance/gain/f6',\n",
       " 'feature_importance/gain/f67',\n",
       " 'feature_importance/gain/f68',\n",
       " 'feature_importance/gain/f7',\n",
       " 'feature_importance/gain/f72',\n",
       " 'feature_importance/gain/f73',\n",
       " 'feature_importance/gain/f8',\n",
       " 'feature_importance/gain/f9',\n",
       " 'feature_importance/total_cover/f0',\n",
       " 'feature_importance/total_cover/f1',\n",
       " 'feature_importance/total_cover/f10',\n",
       " 'feature_importance/total_cover/f11',\n",
       " 'feature_importance/total_cover/f12',\n",
       " 'feature_importance/total_cover/f13',\n",
       " 'feature_importance/total_cover/f14',\n",
       " 'feature_importance/total_cover/f15',\n",
       " 'feature_importance/total_cover/f16',\n",
       " 'feature_importance/total_cover/f17',\n",
       " 'feature_importance/total_cover/f18',\n",
       " 'feature_importance/total_cover/f19',\n",
       " 'feature_importance/total_cover/f2',\n",
       " 'feature_importance/total_cover/f20',\n",
       " 'feature_importance/total_cover/f22',\n",
       " 'feature_importance/total_cover/f23',\n",
       " 'feature_importance/total_cover/f24',\n",
       " 'feature_importance/total_cover/f25',\n",
       " 'feature_importance/total_cover/f26',\n",
       " 'feature_importance/total_cover/f27',\n",
       " 'feature_importance/total_cover/f28',\n",
       " 'feature_importance/total_cover/f29',\n",
       " 'feature_importance/total_cover/f3',\n",
       " 'feature_importance/total_cover/f30',\n",
       " 'feature_importance/total_cover/f31',\n",
       " 'feature_importance/total_cover/f32',\n",
       " 'feature_importance/total_cover/f33',\n",
       " 'feature_importance/total_cover/f34',\n",
       " 'feature_importance/total_cover/f35',\n",
       " 'feature_importance/total_cover/f36',\n",
       " 'feature_importance/total_cover/f37',\n",
       " 'feature_importance/total_cover/f38',\n",
       " 'feature_importance/total_cover/f39',\n",
       " 'feature_importance/total_cover/f4',\n",
       " 'feature_importance/total_cover/f40',\n",
       " 'feature_importance/total_cover/f41',\n",
       " 'feature_importance/total_cover/f42',\n",
       " 'feature_importance/total_cover/f44',\n",
       " 'feature_importance/total_cover/f46',\n",
       " 'feature_importance/total_cover/f5',\n",
       " 'feature_importance/total_cover/f50',\n",
       " 'feature_importance/total_cover/f51',\n",
       " 'feature_importance/total_cover/f59',\n",
       " 'feature_importance/total_cover/f6',\n",
       " 'feature_importance/total_cover/f67',\n",
       " 'feature_importance/total_cover/f68',\n",
       " 'feature_importance/total_cover/f7',\n",
       " 'feature_importance/total_cover/f72',\n",
       " 'feature_importance/total_cover/f73',\n",
       " 'feature_importance/total_cover/f8',\n",
       " 'feature_importance/total_cover/f9',\n",
       " 'feature_importance/total_gain/f0',\n",
       " 'feature_importance/total_gain/f1',\n",
       " 'feature_importance/total_gain/f10',\n",
       " 'feature_importance/total_gain/f11',\n",
       " 'feature_importance/total_gain/f12',\n",
       " 'feature_importance/total_gain/f13',\n",
       " 'feature_importance/total_gain/f14',\n",
       " 'feature_importance/total_gain/f15',\n",
       " 'feature_importance/total_gain/f16',\n",
       " 'feature_importance/total_gain/f17',\n",
       " 'feature_importance/total_gain/f18',\n",
       " 'feature_importance/total_gain/f19',\n",
       " 'feature_importance/total_gain/f2',\n",
       " 'feature_importance/total_gain/f20',\n",
       " 'feature_importance/total_gain/f22',\n",
       " 'feature_importance/total_gain/f23',\n",
       " 'feature_importance/total_gain/f24',\n",
       " 'feature_importance/total_gain/f25',\n",
       " 'feature_importance/total_gain/f26',\n",
       " 'feature_importance/total_gain/f27',\n",
       " 'feature_importance/total_gain/f28',\n",
       " 'feature_importance/total_gain/f29',\n",
       " 'feature_importance/total_gain/f3',\n",
       " 'feature_importance/total_gain/f30',\n",
       " 'feature_importance/total_gain/f31',\n",
       " 'feature_importance/total_gain/f32',\n",
       " 'feature_importance/total_gain/f33',\n",
       " 'feature_importance/total_gain/f34',\n",
       " 'feature_importance/total_gain/f35',\n",
       " 'feature_importance/total_gain/f36',\n",
       " 'feature_importance/total_gain/f37',\n",
       " 'feature_importance/total_gain/f38',\n",
       " 'feature_importance/total_gain/f39',\n",
       " 'feature_importance/total_gain/f4',\n",
       " 'feature_importance/total_gain/f40',\n",
       " 'feature_importance/total_gain/f41',\n",
       " 'feature_importance/total_gain/f42',\n",
       " 'feature_importance/total_gain/f44',\n",
       " 'feature_importance/total_gain/f46',\n",
       " 'feature_importance/total_gain/f5',\n",
       " 'feature_importance/total_gain/f50',\n",
       " 'feature_importance/total_gain/f51',\n",
       " 'feature_importance/total_gain/f59',\n",
       " 'feature_importance/total_gain/f6',\n",
       " 'feature_importance/total_gain/f67',\n",
       " 'feature_importance/total_gain/f68',\n",
       " 'feature_importance/total_gain/f7',\n",
       " 'feature_importance/total_gain/f72',\n",
       " 'feature_importance/total_gain/f73',\n",
       " 'feature_importance/total_gain/f8',\n",
       " 'feature_importance/total_gain/f9',\n",
       " 'feature_importance/weight/f0',\n",
       " 'feature_importance/weight/f1',\n",
       " 'feature_importance/weight/f10',\n",
       " 'feature_importance/weight/f11',\n",
       " 'feature_importance/weight/f12',\n",
       " 'feature_importance/weight/f13',\n",
       " 'feature_importance/weight/f14',\n",
       " 'feature_importance/weight/f15',\n",
       " 'feature_importance/weight/f16',\n",
       " 'feature_importance/weight/f17',\n",
       " 'feature_importance/weight/f18',\n",
       " 'feature_importance/weight/f19',\n",
       " 'feature_importance/weight/f2',\n",
       " 'feature_importance/weight/f20',\n",
       " 'feature_importance/weight/f22',\n",
       " 'feature_importance/weight/f23',\n",
       " 'feature_importance/weight/f24',\n",
       " 'feature_importance/weight/f25',\n",
       " 'feature_importance/weight/f26',\n",
       " 'feature_importance/weight/f27',\n",
       " 'feature_importance/weight/f28',\n",
       " 'feature_importance/weight/f29',\n",
       " 'feature_importance/weight/f3',\n",
       " 'feature_importance/weight/f30',\n",
       " 'feature_importance/weight/f31',\n",
       " 'feature_importance/weight/f32',\n",
       " 'feature_importance/weight/f33',\n",
       " 'feature_importance/weight/f34',\n",
       " 'feature_importance/weight/f35',\n",
       " 'feature_importance/weight/f36',\n",
       " 'feature_importance/weight/f37',\n",
       " 'feature_importance/weight/f38',\n",
       " 'feature_importance/weight/f39',\n",
       " 'feature_importance/weight/f4',\n",
       " 'feature_importance/weight/f40',\n",
       " 'feature_importance/weight/f41',\n",
       " 'feature_importance/weight/f42',\n",
       " 'feature_importance/weight/f44',\n",
       " 'feature_importance/weight/f46',\n",
       " 'feature_importance/weight/f5',\n",
       " 'feature_importance/weight/f50',\n",
       " 'feature_importance/weight/f51',\n",
       " 'feature_importance/weight/f59',\n",
       " 'feature_importance/weight/f6',\n",
       " 'feature_importance/weight/f67',\n",
       " 'feature_importance/weight/f68',\n",
       " 'feature_importance/weight/f7',\n",
       " 'feature_importance/weight/f72',\n",
       " 'feature_importance/weight/f73',\n",
       " 'feature_importance/weight/f8',\n",
       " 'feature_importance/weight/f9',\n",
       " 'train-rmse',\n",
       " 'validation-rmse']"
      ]
     },
     "execution_count": 111,
     "metadata": {},
     "output_type": "execute_result"
    }
   ],
   "source": [
    "trial.tensor_names()"
   ]
  },
  {
   "cell_type": "code",
   "execution_count": 112,
   "metadata": {},
   "outputs": [
    {
     "data": {
      "text/plain": [
       "{10: array([0.04902172]),\n",
       " 20: array([0.06575045]),\n",
       " 30: array([0.0547872]),\n",
       " 40: array([0.04975778]),\n",
       " 50: array([0.01799525])}"
      ]
     },
     "execution_count": 112,
     "metadata": {},
     "output_type": "execute_result"
    }
   ],
   "source": [
    "trial.tensor(\"feature_importance/cover/f0\").values()"
   ]
  },
  {
   "cell_type": "code",
   "execution_count": 113,
   "metadata": {},
   "outputs": [],
   "source": [
    "liste = trial.tensor_names()"
   ]
  },
  {
   "cell_type": "code",
   "execution_count": 116,
   "metadata": {},
   "outputs": [
    {
     "name": "stdout",
     "output_type": "stream",
     "text": [
      "['feature_importance/cover/f0', 'feature_importance/cover/f1', 'feature_importance/cover/f10', 'feature_importance/cover/f11', 'feature_importance/cover/f12', 'feature_importance/cover/f13', 'feature_importance/cover/f14', 'feature_importance/cover/f15', 'feature_importance/cover/f16', 'feature_importance/cover/f17', 'feature_importance/cover/f18', 'feature_importance/cover/f19', 'feature_importance/cover/f2', 'feature_importance/cover/f20', 'feature_importance/cover/f22', 'feature_importance/cover/f23', 'feature_importance/cover/f24', 'feature_importance/cover/f25', 'feature_importance/cover/f26', 'feature_importance/cover/f27', 'feature_importance/cover/f28', 'feature_importance/cover/f29', 'feature_importance/cover/f3', 'feature_importance/cover/f30', 'feature_importance/cover/f31', 'feature_importance/cover/f32', 'feature_importance/cover/f33', 'feature_importance/cover/f34', 'feature_importance/cover/f35', 'feature_importance/cover/f36', 'feature_importance/cover/f37', 'feature_importance/cover/f38', 'feature_importance/cover/f39', 'feature_importance/cover/f4', 'feature_importance/cover/f40', 'feature_importance/cover/f41', 'feature_importance/cover/f42', 'feature_importance/cover/f44', 'feature_importance/cover/f46', 'feature_importance/cover/f5', 'feature_importance/cover/f50', 'feature_importance/cover/f51', 'feature_importance/cover/f59', 'feature_importance/cover/f6', 'feature_importance/cover/f67', 'feature_importance/cover/f68', 'feature_importance/cover/f7', 'feature_importance/cover/f72', 'feature_importance/cover/f73', 'feature_importance/cover/f8', 'feature_importance/cover/f9']\n"
     ]
    }
   ],
   "source": [
    "#[k for k in lst if 'ab' in k]\n",
    "feature_importance_names = [k for k in liste if 'feature_importance/cover' in k]\n",
    "feature_importance_col_names = ['isAdult', 'startYear', 'endYear', 'numVotes', 'Crime', 'Romance', 'Thriller', 'Adventure', 'Drama', 'War', 'Documentary', 'Reality-TV', 'Family', 'Fantasy', 'Game-Show', 'Adult', 'History', 'Mystery', 'Musical', 'Animation', 'Music', 'Film-Noir', 'shortGenre', 'Horror', 'Western', 'Biography', 'Comedy', 'Action', 'Sport', 'Talk-Show', 'Sci-Fi', 'News', 'movie', 'short', 'tvEpisode', 'tvMiniSeries', 'tvMovie', 'tvSeries', 'tvShort', 'tvSpecial', 'video', 'videoGame', 'nm0592314', 'nm10514069', 'nm11131030', 'nm11131593', 'nm1915152', 'nm2124199', 'nm2299581', 'nm2699546', 'nm3816718', 'nm4837590', 'nm5181169', 'nm5511980', 'nm6135542', 'nm6419589', 'nm7155068', 'nm7702567', 'nm8062068', 'nm8079243', 'nm8269207', 'nm8409754', 'nm8641187', 'nm8688464', 'nm8713978', 'nm8741892', 'nm9002892', 'nm9099684', 'nm9099685', 'nm9177141', 'nm9325202', 'nm9354107', 'distinct languages', 'distinct regions']\n",
    "print(feature_importance_names)"
   ]
  },
  {
   "cell_type": "code",
   "execution_count": 117,
   "metadata": {},
   "outputs": [
    {
     "name": "stdout",
     "output_type": "stream",
     "text": [
      "isAdult \t\tstartYear \t\tendYear \t\tnumVotes \t\tCrime \t\tRomance \t\tThriller \t\tAdventure \t\tDrama \t\tWar \t\tDocumentary \t\tReality-TV \t\tFamily \t\tFantasy \t\tGame-Show \t\tAdult \t\tHistory \t\tMystery \t\tMusical \t\tAnimation \t\tMusic \t\tFilm-Noir \t\tshortGenre \t\tHorror \t\tWestern \t\tBiography \t\tComedy \t\tAction \t\tSport \t\tTalk-Show \t\tSci-Fi \t\tNews \t\tmovie \t\tshort \t\ttvEpisode \t\ttvMiniSeries \t\ttvMovie \t\ttvSeries \t\ttvShort \t\ttvSpecial \t\tvideo \t\tvideoGame \t\tnm0592314 \t\tnm10514069 \t\tnm11131030 \t\tnm11131593 \t\tnm1915152 \t\tnm2124199 \t\tnm2299581 \t\tnm2699546 \t\tnm3816718 \t\t{'isAdult': 0.04902172450760012, 'startYear': 0.007731743678272502, 'Documentary': 0.020954070611763607, 'Reality-TV': 0.024340919937262895, 'Family': 0.002816347625729448, 'Fantasy': 0.014046750999490027, 'Game-Show': 0.022368419586286808, 'Adult': 0.0001551272228130691, 'History': 0.07654415411172315, 'Mystery': 0.0019654479604704414, 'Musical': 0.0023012229271350006, 'Animation': 0.00846598415249249, 'endYear': 0.03043580177121961, 'Music': 0.013500729811914754, 'shortGenre': 0.008185487264376878, 'Horror': 0.023819885560487166, 'Western': 0.06446829891752762, 'Biography': 0.0034040547621306304, 'Comedy': 0.0019434396153549852, 'Action': 0.008164933647263223, 'Sport': 0.0018188127798219958, 'Talk-Show': 0.039786454246432366, 'numVotes': 0.007427582542807372, 'Sci-Fi': 0.005482385365235978, 'News': 0.035317581610590884, 'movie': 0.053260658317978535, 'short': 0.017552542882042967, 'tvEpisode': 0.07702224530405923, 'tvMiniSeries': 0.08175020721992748, 'tvMovie': 0.009823815080344068, 'tvSeries': 0.013438831132656556, 'tvShort': 3.7291417421947924e-05, 'tvSpecial': 0, 'Crime': 0.0027947634209744545, 'video': 0.01606047600922468, 'videoGame': 0.05666402337914919, 'nm0592314': 0, 'nm11131030': 0, 'nm1915152': 0, 'Romance': 0.017389542422655637, 'nm3816718': 0, 'nm4837590': 0, 'nm8079243': 0, 'Thriller': 0.03906155475470981, 'nm9099684': 0, 'nm9099685': 0, 'Adventure': 0.007800669202324399, 'distinct languages': 0.011156727130806302, 'distinct regions': 0.014331510292388916, 'Drama': 0.024166274970042336, 'War': 0.08322150584709036}\n",
      "******************************\n",
      "\n",
      "{'isAdult': 0.01799524553993169, 'startYear': 0.003609462844875937, 'Documentary': 0.00945704543406133, 'Reality-TV': 0.00551401604318522, 'Family': 0.0034404112842701304, 'Fantasy': 0.006194748825593228, 'Game-Show': 0.012584653722681383, 'Adult': 0.008776842742343345, 'History': 0.012882115547803882, 'Mystery': 0.008829860496552221, 'Musical': 0.007565520157845108, 'Animation': 0.004592944922022762, 'endYear': 0.01188204008967052, 'Music': 0.007353555105497709, 'shortGenre': 0.003216152834547342, 'Horror': 0.0113857995928128, 'Western': 0.007825534377675013, 'Biography': 0.012793795020423531, 'Comedy': 0.0011189158113273064, 'Action': 0.0032964116180658116, 'Sport': 0.007175579528253064, 'Talk-Show': 0.013419179700044009, 'numVotes': 0.004744693296216806, 'Sci-Fi': 0.01115627634743044, 'News': 0.02121907755984194, 'movie': 0.010680352988857871, 'short': 0.007881787205812564, 'tvEpisode': 0.007193861607283966, 'tvMiniSeries': 0.04668784946911594, 'tvMovie': 0.00727116987542969, 'tvSeries': 0.005223630992621238, 'tvShort': 0.021502758513443253, 'tvSpecial': 0.020108329387817314, 'Crime': 0.008364587564759478, 'video': 0.00769586825161539, 'videoGame': 0.03883292265783376, 'nm0592314': 0.06560249434811836, 'nm11131030': 0.06494506616278307, 'nm1915152': 0.06560469583156175, 'Romance': 0.0092982895275091, 'nm3816718': 0.06494510693099499, 'nm4837590': 0.06560241281169453, 'nm8079243': 0.06494514769920691, 'Thriller': 0.015821064951351906, 'nm9099684': 0.06494531077205457, 'nm9099685': 0.06494514769920691, 'Adventure': 0.004679699075333176, 'distinct languages': 0.009938218046122915, 'distinct regions': 0.006857230812662076, 'Drama': 0.0035878304461249397, 'War': 0.028809287927711855}\n"
     ]
    }
   ],
   "source": [
    "feat_dict_10={}\n",
    "feat_dict_50={}\n",
    "for i,f in enumerate(feature_importance_names):\n",
    "    index=int(f.split('f')[2])\n",
    "    print(feature_importance_col_names[i],\"\\t\\t\",end='')\n",
    "\n",
    "    \n",
    "    try:\n",
    "        feat_dict_10[feature_importance_col_names[index]]=trial.tensor(f).values()[10][0]\n",
    "    except:\n",
    "        feat_dict_10[feature_importance_col_names[index]]=0\n",
    "    #print(f,index)\n",
    "print(feat_dict_10)\n",
    "print(30*'*')\n",
    "print()\n",
    "for i,f in enumerate(feature_importance_names):\n",
    "    index=int(f.split('f')[2])\n",
    "    try:\n",
    "        feat_dict_50[feature_importance_col_names[index]]=trial.tensor(f).values()[50][0]\n",
    "    except:\n",
    "        feat_dict_50[feature_importance_col_names[index]]=0\n",
    "   \n",
    "print(feat_dict_50)"
   ]
  },
  {
   "cell_type": "code",
   "execution_count": 118,
   "metadata": {},
   "outputs": [
    {
     "name": "stdout",
     "output_type": "stream",
     "text": [
      "isAdult \t\t{10: array([0.00441176]), 20: array([0.00386997]), 30: array([0.0031463]), 40: array([0.00361591]), 50: array([0.00435949])}\n",
      "startYear \t\t{0: array([0.23728814]), 10: array([0.21029412]), 20: array([0.20897833]), 30: array([0.19087572]), 40: array([0.19284853]), 50: array([0.19450034])}\n",
      "endYear \t\t{0: array([0.05084746]), 10: array([0.03382353]), 20: array([0.02399381]), 30: array([0.02412166]), 40: array([0.02290076]), 50: array([0.02146211])}\n",
      "numVotes \t\t{0: array([0.05084746]), 10: array([0.02205882]), 20: array([0.02399381]), 30: array([0.02149974]), 40: array([0.01888309]), 50: array([0.01777331])}\n",
      "Crime \t\t{10: array([0.01323529]), 20: array([0.01547988]), 30: array([0.01835343]), 40: array([0.01807955]), 50: array([0.01810865])}\n",
      "Romance \t\t{10: array([0.00441176]), 20: array([0.00541796]), 30: array([0.00734137]), 40: array([0.00924066]), 50: array([0.01006036])}\n",
      "Thriller \t\t{0: array([0.01694915]), 10: array([0.00735294]), 20: array([0.00619195]), 30: array([0.00629261]), 40: array([0.00683005]), 50: array([0.00670691])}\n",
      "Adventure \t\t{10: array([0.00441176]), 20: array([0.00309598]), 30: array([0.0031463]), 40: array([0.00522298]), 50: array([0.00469484])}\n",
      "Drama \t\t{10: array([0.00294118]), 20: array([0.00696594]), 30: array([0.00734137]), 40: array([0.00723182]), 50: array([0.00637156])}\n",
      "War \t\t{10: array([0.00735294]), 20: array([0.00928793]), 30: array([0.00891453]), 40: array([0.01004419]), 50: array([0.00972502])}\n",
      "Documentary \t\t{10: array([0.00588235]), 20: array([0.00541796]), 30: array([0.00524384]), 40: array([0.00642828]), 50: array([0.00704225])}\n",
      "Reality-TV \t\t{0: array([0.01694915]), 10: array([0.02352941]), 20: array([0.03018576]), 30: array([0.02779234]), 40: array([0.02812374]), 50: array([0.02984574])}\n",
      "Family \t\t{0: array([0.01694915]), 10: array([0.02352941]), 20: array([0.02863777]), 30: array([0.0388044]), 40: array([0.03856971]), 50: array([0.04024145])}\n",
      "Fantasy \t\t{10: array([0.02058824]), 20: array([0.01547988]), 30: array([0.01520713]), 40: array([0.01526718]), 50: array([0.0147552])}\n",
      "Game-Show \t\t{10: array([0.01323529]), 20: array([0.01006192]), 30: array([0.01153644]), 40: array([0.01526718]), 50: array([0.01542589])}\n",
      "Adult \t\t{0: array([0.08474576]), 10: array([0.03823529]), 20: array([0.0255418]), 30: array([0.02045097]), 40: array([0.02008839]), 50: array([0.018444])}\n",
      "History \t\t{10: array([0.00294118]), 20: array([0.00232198]), 30: array([0.00209754]), 40: array([0.00361591]), 50: array([0.00503018])}\n",
      "Mystery \t\t{0: array([0.01694915]), 10: array([0.01176471]), 20: array([0.00696594]), 30: array([0.00734137]), 40: array([0.00683005]), 50: array([0.0073776])}\n",
      "Musical \t\t{10: array([0.02794118]), 20: array([0.0255418]), 30: array([0.02779234]), 40: array([0.02772198]), 50: array([0.0288397])}\n",
      "Animation \t\t{10: array([0.01764706]), 20: array([0.02089783]), 30: array([0.02097535]), 40: array([0.022499]), 50: array([0.02347418])}\n",
      "Music \t\t{10: array([0.00882353]), 20: array([0.01160991]), 30: array([0.01363398]), 40: array([0.01406187]), 50: array([0.01307847])}\n",
      "Film-Noir \t\t{0: array([0.01694915]), 10: array([0.01323529]), 20: array([0.01006192]), 30: array([0.00891453]), 40: array([0.00803536]), 50: array([0.00804829])}\n",
      "shortGenre \t\t{0: array([0.23728814]), 10: array([0.21176471]), 20: array([0.19582043]), 30: array([0.19192449]), 40: array([0.1932503]), 50: array([0.19215292])}\n",
      "Horror \t\t{10: array([0.01176471]), 20: array([0.01547988]), 30: array([0.0131096]), 40: array([0.01165127]), 50: array([0.01140174])}\n",
      "Western \t\t{0: array([0.01694915]), 10: array([0.01029412]), 20: array([0.00773994]), 30: array([0.00786576]), 40: array([0.00642828]), 50: array([0.00637156])}\n",
      "Biography \t\t{0: array([0.01694915]), 10: array([0.01764706]), 20: array([0.01857585]), 30: array([0.01782905]), 40: array([0.01727601]), 50: array([0.01643192])}\n",
      "Comedy \t\t{10: array([0.01029412]), 20: array([0.0123839]), 30: array([0.01206083]), 40: array([0.01084773]), 50: array([0.01073105])}\n",
      "Action \t\t{0: array([0.01694915]), 10: array([0.01470588]), 20: array([0.02167183]), 30: array([0.02517042]), 40: array([0.02169546]), 50: array([0.02112676])}\n",
      "Sport \t\t{10: array([0.00294118]), 20: array([0.00386997]), 30: array([0.0031463]), 40: array([0.00241061]), 50: array([0.00234742])}\n",
      "Talk-Show \t\t{0: array([0.01694915]), 10: array([0.01764706]), 20: array([0.01547988]), 30: array([0.01468275]), 40: array([0.01486541]), 50: array([0.01441985])}\n",
      "Sci-Fi \t\t{10: array([0.00882353]), 20: array([0.01547988]), 30: array([0.0162559]), 40: array([0.0136601]), 50: array([0.0147552])}\n",
      "News \t\t{10: array([0.00147059]), 20: array([0.00077399]), 30: array([0.00104877]), 40: array([0.00080354]), 50: array([0.00100604])}\n",
      "movie \t\t{20: array([0.00309598]), 30: array([0.00367069]), 40: array([0.00401768]), 50: array([0.00402414])}\n",
      "short \t\t{10: array([0.00147059]), 20: array([0.00696594]), 30: array([0.00891453]), 40: array([0.01325834]), 50: array([0.01307847])}\n",
      "tvEpisode \t\t{0: array([0.01694915]), 10: array([0.01617647]), 20: array([0.01393189]), 30: array([0.01258521]), 40: array([0.0136601]), 50: array([0.01240778])}\n",
      "tvMiniSeries \t\t{10: array([0.00588235]), 20: array([0.00541796]), 30: array([0.00419507]), 40: array([0.00361591]), 50: array([0.0036888])}\n",
      "tvMovie \t\t{50: array([0.00033535])}\n",
      "tvSeries \t\t{10: array([0.01029412]), 20: array([0.01315789]), 30: array([0.01520713]), 40: array([0.01446364]), 50: array([0.01408451])}\n",
      "tvShort \t\t{10: array([0.00882353]), 20: array([0.00851393]), 30: array([0.00786576]), 40: array([0.00723182]), 50: array([0.00603622])}\n",
      "tvSpecial \t\t{10: array([0.01617647]), 20: array([0.01934985]), 30: array([0.02359727]), 40: array([0.02129369]), 50: array([0.02246814])}\n",
      "video \t\t{0: array([0.06779661]), 10: array([0.04558824]), 20: array([0.05959752]), 30: array([0.06554798]), 40: array([0.06347931]), 50: array([0.06069752])}\n",
      "videoGame \t\t"
     ]
    },
    {
     "ename": "TensorUnavailable",
     "evalue": "Tensor feature_importance/weight/f74 was not saved.",
     "output_type": "error",
     "traceback": [
      "\u001b[0;31m---------------------------------------------------------------------------\u001b[0m",
      "\u001b[0;31mTensorUnavailable\u001b[0m                         Traceback (most recent call last)",
      "\u001b[0;32m<ipython-input-118-c997ab389b96>\u001b[0m in \u001b[0;36m<module>\u001b[0;34m\u001b[0m\n\u001b[1;32m      2\u001b[0m \u001b[0;32mfor\u001b[0m \u001b[0mi\u001b[0m\u001b[0;34m,\u001b[0m\u001b[0mf\u001b[0m \u001b[0;32min\u001b[0m \u001b[0menumerate\u001b[0m\u001b[0;34m(\u001b[0m\u001b[0mfeature_importance_weight\u001b[0m\u001b[0;34m)\u001b[0m\u001b[0;34m:\u001b[0m\u001b[0;34m\u001b[0m\u001b[0;34m\u001b[0m\u001b[0m\n\u001b[1;32m      3\u001b[0m     \u001b[0mprint\u001b[0m\u001b[0;34m(\u001b[0m\u001b[0mfeature_importance_col_names\u001b[0m\u001b[0;34m[\u001b[0m\u001b[0mi\u001b[0m\u001b[0;34m]\u001b[0m\u001b[0;34m,\u001b[0m\u001b[0;34m\"\\t\\t\"\u001b[0m\u001b[0;34m,\u001b[0m\u001b[0mend\u001b[0m\u001b[0;34m=\u001b[0m\u001b[0;34m''\u001b[0m\u001b[0;34m)\u001b[0m\u001b[0;34m\u001b[0m\u001b[0;34m\u001b[0m\u001b[0m\n\u001b[0;32m----> 4\u001b[0;31m     \u001b[0mprint\u001b[0m\u001b[0;34m(\u001b[0m\u001b[0mtrial\u001b[0m\u001b[0;34m.\u001b[0m\u001b[0mtensor\u001b[0m\u001b[0;34m(\u001b[0m\u001b[0mf\u001b[0m\u001b[0;34m)\u001b[0m\u001b[0;34m.\u001b[0m\u001b[0mvalues\u001b[0m\u001b[0;34m(\u001b[0m\u001b[0;34m)\u001b[0m\u001b[0;34m)\u001b[0m\u001b[0;34m\u001b[0m\u001b[0;34m\u001b[0m\u001b[0m\n\u001b[0m\u001b[1;32m      5\u001b[0m     \u001b[0;31m#print(trial.tensor(f).values()[40][0])\u001b[0m\u001b[0;34m\u001b[0m\u001b[0;34m\u001b[0m\u001b[0;34m\u001b[0m\u001b[0m\n\u001b[1;32m      6\u001b[0m     \u001b[0mfeat_weight_dict\u001b[0m\u001b[0;34m[\u001b[0m\u001b[0mfeature_importance_col_names\u001b[0m\u001b[0;34m[\u001b[0m\u001b[0mi\u001b[0m\u001b[0;34m]\u001b[0m\u001b[0;34m]\u001b[0m\u001b[0;34m=\u001b[0m\u001b[0mtrial\u001b[0m\u001b[0;34m.\u001b[0m\u001b[0mtensor\u001b[0m\u001b[0;34m(\u001b[0m\u001b[0mf\u001b[0m\u001b[0;34m)\u001b[0m\u001b[0;34m.\u001b[0m\u001b[0mvalues\u001b[0m\u001b[0;34m(\u001b[0m\u001b[0;34m)\u001b[0m\u001b[0;34m[\u001b[0m\u001b[0;36m50\u001b[0m\u001b[0;34m]\u001b[0m\u001b[0;34m[\u001b[0m\u001b[0;36m0\u001b[0m\u001b[0;34m]\u001b[0m\u001b[0;34m\u001b[0m\u001b[0;34m\u001b[0m\u001b[0m\n",
      "\u001b[0;32m~/anaconda3/envs/python3/lib/python3.6/site-packages/smdebug/trials/trial.py\u001b[0m in \u001b[0;36mtensor\u001b[0;34m(self, tname)\u001b[0m\n\u001b[1;32m    224\u001b[0m             \u001b[0;32mreturn\u001b[0m \u001b[0mself\u001b[0m\u001b[0;34m.\u001b[0m\u001b[0m_tensors\u001b[0m\u001b[0;34m[\u001b[0m\u001b[0mtname\u001b[0m\u001b[0;34m]\u001b[0m\u001b[0;34m\u001b[0m\u001b[0;34m\u001b[0m\u001b[0m\n\u001b[1;32m    225\u001b[0m         \u001b[0;32melse\u001b[0m\u001b[0;34m:\u001b[0m\u001b[0;34m\u001b[0m\u001b[0;34m\u001b[0m\u001b[0m\n\u001b[0;32m--> 226\u001b[0;31m             \u001b[0;32mraise\u001b[0m \u001b[0mTensorUnavailable\u001b[0m\u001b[0;34m(\u001b[0m\u001b[0mtname\u001b[0m\u001b[0;34m)\u001b[0m\u001b[0;34m\u001b[0m\u001b[0;34m\u001b[0m\u001b[0m\n\u001b[0m\u001b[1;32m    227\u001b[0m \u001b[0;34m\u001b[0m\u001b[0m\n\u001b[1;32m    228\u001b[0m     \u001b[0;32mdef\u001b[0m \u001b[0mhas_tensor\u001b[0m\u001b[0;34m(\u001b[0m\u001b[0mself\u001b[0m\u001b[0;34m,\u001b[0m \u001b[0mtname\u001b[0m\u001b[0;34m)\u001b[0m\u001b[0;34m:\u001b[0m\u001b[0;34m\u001b[0m\u001b[0;34m\u001b[0m\u001b[0m\n",
      "\u001b[0;31mTensorUnavailable\u001b[0m: Tensor feature_importance/weight/f74 was not saved."
     ]
    }
   ],
   "source": [
    "feat_weight_dict={}\n",
    "for i,f in enumerate(feature_importance_weight):\n",
    "    print(feature_importance_col_names[i],\"\\t\\t\",end='')\n",
    "    print(trial.tensor(f).values())\n",
    "    #print(trial.tensor(f).values()[40][0])\n",
    "    feat_weight_dict[feature_importance_col_names[i]]=trial.tensor(f).values()[50][0]\n",
    "    #break\n",
    "#print(feat_weight_dict)"
   ]
  },
  {
   "cell_type": "code",
   "execution_count": 119,
   "metadata": {},
   "outputs": [
    {
     "data": {
      "image/png": "[encoded data removed]",
      "text/plain": [
       "<Figure size 432x288 with 1 Axes>"
      ]
     },
     "metadata": {
      "needs_background": "light"
     },
     "output_type": "display_data"
    },
    {
     "data": {
      "text/plain": [
       "Text(0.5, 1.0, 'Feature_importances (after 50 training steps) - with names')"
      ]
     },
     "execution_count": 119,
     "metadata": {},
     "output_type": "execute_result"
    },
    {
     "data": {
      "image/png": "[encoded data removed]",
      "text/plain": [
       "<Figure size 432x288 with 1 Axes>"
      ]
     },
     "metadata": {
      "needs_background": "light"
     },
     "output_type": "display_data"
    }
   ],
   "source": [
    "import matplotlib.pyplot as plt\n",
    "plt.bar(range(len(feat_dict_10)),list(feat_dict_10.values()))\n",
    "plt.title(\"Feature_importances (after 10 training steps) - with names\", fontsize=20)\n",
    "plt.show()\n",
    "plt.bar(range(len(feat_dict_50)),list(feat_dict_50.values()))\n",
    "plt.title(\"Feature_importances (after 50 training steps) - with names\", fontsize=20)"
   ]
  },
  {
   "cell_type": "code",
   "execution_count": 120,
   "metadata": {},
   "outputs": [
    {
     "data": {
      "text/plain": [
       "Text(0.5, 1.0, 'Feature_importances_weight')"
      ]
     },
     "execution_count": 120,
     "metadata": {},
     "output_type": "execute_result"
    },
    {
     "data": {
      "image/png": "[encoded data removed]",
      "text/plain": [
       "<Figure size 432x288 with 1 Axes>"
      ]
     },
     "metadata": {
      "needs_background": "light"
     },
     "output_type": "display_data"
    }
   ],
   "source": [
    "plt.bar(range(len(feat_weight_dict)),list(feat_weight_dict.values()))\n",
    "plt.title(\"Feature_importances_weight\", fontsize=20)"
   ]
  },
  {
   "cell_type": "code",
   "execution_count": 121,
   "metadata": {},
   "outputs": [],
   "source": [
    "import pandas as pd\n",
    "\n",
    "\n"
   ]
  },
  {
   "cell_type": "code",
   "execution_count": 123,
   "metadata": {},
   "outputs": [
    {
     "data": {
      "image/png": "[encoded data removed]",
      "text/plain": [
       "<Figure size 1440x720 with 1 Axes>"
      ]
     },
     "metadata": {
      "needs_background": "light"
     },
     "output_type": "display_data"
    }
   ],
   "source": [
    "from datetime import datetime\n",
    "\n",
    "now = datetime.now() # current date and time\n",
    "time = now.strftime(\"%m-%d-%Y-%H-%M-%S\")\n",
    "#print(time)\n",
    "\n",
    "dict = feat_dict_50\n",
    "\n",
    "fig,ax = plt.subplots(figsize=(20,10))\n",
    "\n",
    "#pd.DataFrame(feat_dict, index=['quantity']).plot(kind='bar',ax=ax,use_index=False, legend=False,width=1.4)\n",
    "plt.bar(*zip(*dict.items()))\n",
    "plt.title('Feature Importances (50 runs) - with names', fontsize=20)\n",
    "plt.xlabel('Feature', fontsize=20)\n",
    "plt.ylabel('share', fontsize=20)\n",
    "plt.xticks(ticks=[])\n",
    "threshold=0.02\n",
    "pad=0.001\n",
    "i=0\n",
    "for k,v in dict.items():\n",
    "    if v > threshold:\n",
    "        ax.text(i,v+pad,k.replace(\" \",\"\\n\"),horizontalalignment='center',fontsize=10)\n",
    "    #reak\n",
    "    i +=1\n",
    "#plt.xlim([0,10])\n",
    "#plt.ylim([0,10])\n",
    "#plt.plot([0,10],[0,10], c='red')\n",
    "\n",
    "#plt.show()\n",
    "save_it=True\n",
    "if save_it == True:\n",
    "    filename='Feature_importance_princ-'+time\n",
    "    plt.savefig(filename, dpi=None, facecolor='w', edgecolor='w',\n",
    "        orientation='portrait')\n",
    "plt.show()"
   ]
  },
  {
   "cell_type": "code",
   "execution_count": 89,
   "metadata": {},
   "outputs": [
    {
     "name": "stdout",
     "output_type": "stream",
     "text": [
      "isAdult 0.051870616709514795\n"
     ]
    }
   ],
   "source": [
    "sum=0\n",
    "for k,v in feat_dict.items():\n",
    "    sum=sum+v\n",
    "print(sum)"
   ]
  },
  {
   "cell_type": "markdown",
   "metadata": {},
   "source": [
    "# Deploy Model"
   ]
  },
  {
   "cell_type": "markdown",
   "metadata": {},
   "source": [
    "## Deploy"
   ]
  },
  {
   "cell_type": "code",
   "execution_count": 76,
   "metadata": {},
   "outputs": [
    {
     "name": "stderr",
     "output_type": "stream",
     "text": [
      "Parameter image will be renamed to image_uri in SageMaker Python SDK v2.\n"
     ]
    },
    {
     "name": "stdout",
     "output_type": "stream",
     "text": [
      "-----------------!"
     ]
    }
   ],
   "source": [
    "# Deploy  model to an endpoint\n",
    "\n",
    "xgb_predictor = xgboost.deploy(\n",
    "    initial_instance_count = 1, \n",
    "    instance_type = 'ml.t2.medium')"
   ]
  },
  {
   "cell_type": "markdown",
   "metadata": {},
   "source": [
    "## Configure Predictor"
   ]
  },
  {
   "cell_type": "code",
   "execution_count": 77,
   "metadata": {},
   "outputs": [],
   "source": [
    "# Configure the predictor's serializer and deserializer\n",
    "\n",
    "# INSERT CODE HERE\n",
    "\n",
    "from sagemaker.predictor import csv_serializer, json_deserializer\n",
    "\n",
    "xgb_predictor.content_type = \"text/csv\"\n",
    "xgb_predictor.serializer = csv_serializer\n",
    "xgb_predictor.deserializer = json_deserializer"
   ]
  },
  {
   "cell_type": "markdown",
   "metadata": {},
   "source": [
    "# Display Endpoint"
   ]
  },
  {
   "cell_type": "code",
   "execution_count": 78,
   "metadata": {},
   "outputs": [
    {
     "data": {
      "text/plain": [
       "'JPC-xgboost-2020-11-18-14-16-01-550'"
      ]
     },
     "execution_count": 78,
     "metadata": {},
     "output_type": "execute_result"
    }
   ],
   "source": [
    "xgb_predictor.endpoint"
   ]
  },
  {
   "cell_type": "markdown",
   "metadata": {},
   "source": [
    "# Prediction"
   ]
  },
  {
   "cell_type": "code",
   "execution_count": 80,
   "metadata": {},
   "outputs": [
    {
     "name": "stdout",
     "output_type": "stream",
     "text": [
      "0\n",
      "1000\n",
      "2000\n",
      "3000\n",
      "4000\n",
      "5000\n",
      "6000\n",
      "7000\n",
      "8000\n",
      "9000\n",
      "10000\n",
      "11000\n",
      "12000\n",
      "13000\n",
      "14000\n",
      "15000\n",
      "16000\n",
      "17000\n",
      "18000\n",
      "19000\n",
      "20000\n",
      "21000\n",
      "22000\n",
      "23000\n",
      "24000\n",
      "25000\n",
      "26000\n",
      "27000\n",
      "28000\n",
      "29000\n",
      "30000\n",
      "31000\n",
      "32000\n",
      "33000\n",
      "34000\n",
      "35000\n",
      "36000\n",
      "37000\n",
      "38000\n",
      "39000\n",
      "40000\n",
      "41000\n",
      "42000\n",
      "43000\n",
      "44000\n",
      "45000\n",
      "46000\n",
      "47000\n",
      "48000\n",
      "49000\n",
      "50000\n",
      "51000\n",
      "52000\n",
      "53000\n",
      "54000\n",
      "55000\n",
      "56000\n",
      "57000\n",
      "58000\n",
      "59000\n",
      "60000\n",
      "61000\n",
      "62000\n",
      "63000\n",
      "64000\n",
      "65000\n",
      "66000\n",
      "67000\n",
      "68000\n",
      "69000\n",
      "70000\n",
      "71000\n",
      "72000\n",
      "73000\n",
      "74000\n",
      "75000\n",
      "76000\n",
      "77000\n",
      "78000\n",
      "79000\n",
      "80000\n",
      "81000\n",
      "82000\n",
      "83000\n",
      "84000\n",
      "85000\n",
      "86000\n",
      "87000\n",
      "88000\n",
      "89000\n",
      "90000\n",
      "91000\n",
      "92000\n",
      "93000\n",
      "94000\n",
      "95000\n",
      "96000\n",
      "97000\n",
      "98000\n",
      "99000\n"
     ]
    },
    {
     "data": {
      "text/plain": [
       "<matplotlib.collections.PathCollection at 0x7fd4511ec6a0>"
      ]
     },
     "execution_count": 80,
     "metadata": {},
     "output_type": "execute_result"
    },
    {
     "data": {
      "image/png": "[encoded data removed]",
      "text/plain": [
       "<Figure size 432x288 with 1 Axes>"
      ]
     },
     "metadata": {
      "needs_background": "light"
     },
     "output_type": "display_data"
    }
   ],
   "source": [
    "# carefully just one prediction\n",
    "import pandas as pd\n",
    "import matplotlib.pyplot as plt\n",
    "\n",
    "col_names = ['averageRating', 'isAdult', 'startYear', 'endYear', 'numVotes', 'Crime', 'Romance', 'Thriller', 'Adventure', 'Drama', 'War', 'Documentary', 'Reality-TV', 'Family', 'Fantasy', 'Game-Show', 'Adult', 'History', 'Mystery', 'Musical', 'Animation', 'Music', 'Film-Noir', 'shortGenre', 'Horror', 'Western', 'Biography', 'Comedy', 'Action', 'Sport', 'Talk-Show', 'Sci-Fi', 'News', 'movie', 'short', 'tvEpisode', 'tvMiniSeries', 'tvMovie', 'tvSeries', 'tvShort', 'tvSpecial', 'video', 'videoGame', 'distinct languages', 'distinct regions']\n",
    "test = pd.read_csv(f\"{s3_path}{test_source_path}/{test_source_name}\", header=0, index_col=False, names=col_names)\n",
    "prediction=[]\n",
    "for i in range(test.shape[0]):\n",
    "    prediction.append(xgb_predictor.predict(test.iloc[i, 1:]))\n",
    "    if i % 1000 == 0:\n",
    "        print(i)\n",
    "    #     print(prediction)\n",
    "    #     print(test.iloc[i,0])\n",
    "#print(prediction) \n",
    "\n",
    "plt.scatter(test.iloc[:,0], prediction)\n"
   ]
  },
  {
   "cell_type": "code",
   "execution_count": 88,
   "metadata": {},
   "outputs": [
    {
     "name": "stdout",
     "output_type": "stream",
     "text": [
      "11-18-2020-14-56-36\n"
     ]
    },
    {
     "data": {
      "image/png": "[encoded data removed]",
      "text/plain": [
       "<Figure size 720x720 with 1 Axes>"
      ]
     },
     "metadata": {
      "needs_background": "light"
     },
     "output_type": "display_data"
    }
   ],
   "source": [
    "from datetime import datetime\n",
    "\n",
    "now = datetime.now() # current date and time\n",
    "time = now.strftime(\"%m-%d-%Y-%H-%M-%S\")\n",
    "print(time)\n",
    "\n",
    "\n",
    "\n",
    "fig = plt.subplots(figsize=(10,10))\n",
    "plt.scatter(test.iloc[:,0], prediction,marker='.')\n",
    "plt.title('Second Prediction (first train on train set)', fontsize=20)\n",
    "plt.xlabel('original value')\n",
    "plt.ylabel('predicted value')\n",
    "plt.xlim([0,10])\n",
    "plt.ylim([0,10])\n",
    "plt.plot([0,10],[0,10], c='red')\n",
    "\n",
    "#plt.show()\n",
    "filename='Prediction-'+time\n",
    "plt.savefig(filename, dpi=None, facecolor='w', edgecolor='w',\n",
    "        orientation='portrait')\n"
   ]
  },
  {
   "cell_type": "code",
   "execution_count": 86,
   "metadata": {},
   "outputs": [
    {
     "name": "stdout",
     "output_type": "stream",
     "text": [
      "11-18-2020-14-55-10\n"
     ]
    }
   ],
   "source": []
  }
 ],
 "metadata": {
  "kernelspec": {
   "display_name": "conda_python3",
   "language": "python",
   "name": "conda_python3"
  },
  "language_info": {
   "codemirror_mode": {
    "name": "ipython",
    "version": 3
   },
   "file_extension": ".py",
   "mimetype": "text/x-python",
   "name": "python",
   "nbconvert_exporter": "python",
   "pygments_lexer": "ipython3",
   "version": "3.6.10"
  }
 },
 "nbformat": 4,
 "nbformat_minor": 4
}
